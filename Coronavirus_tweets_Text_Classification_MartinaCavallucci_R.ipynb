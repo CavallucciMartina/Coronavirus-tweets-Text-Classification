{
  "nbformat": 4,
  "nbformat_minor": 0,
  "metadata": {
    "colab": {
      "name": "Coronavirus tweets-Text Classification-MartinaCavallucci.R.ipynb",
      "provenance": [],
      "collapsed_sections": [],
      "toc_visible": true
    },
    "kernelspec": {
      "display_name": "R",
      "name": "ir"
    }
  },
  "cells": [
    {
      "cell_type": "markdown",
      "metadata": {
        "id": "qJfOVJGWz_XP"
      },
      "source": [
        "# **Coronavirus tweets-Text Classification**\n",
        "\n",
        "#### Autore: Martina Cavallucci\n",
        "#### Email: nome.cognome@studio.unibo.it\n",
        "#### Release: Gennaio, 2020\n",
        "\n",
        "*Questo script R esegue un' analisi e una classificazione di testi di tweet durante il perodo di Marzo 2019 e Aprile 2019.\n",
        "Tali tweet si riferiscono ad un topic specifico: Covid-19.\n",
        "L'obiettivo è quindi comprendere le relazioni tra i termini utilizzati, e la classificazione dei tweet rispetto al sentiment (Positive, Negative, Neutral).*\n",
        "\n"
      ]
    },
    {
      "cell_type": "markdown",
      "metadata": {
        "id": "vjTyI4yi1Dwd"
      },
      "source": [
        "---\n",
        "\n",
        "#### Import delle librerie R e di Text Mining\n",
        "\n",
        "---\n",
        "\n",
        "\n"
      ]
    },
    {
      "cell_type": "code",
      "metadata": {
        "id": "Nwh1UhZ6fZ22",
        "colab": {
          "base_uri": "https://localhost:8080/"
        },
        "outputId": "d26a171f-df86-40aa-df02-5f5867545cb2"
      },
      "source": [
        "install.packages(\"lsa\")\n",
        "install.packages(\"tm\")\n",
        "install.packages(\"RWeka\")\n",
        "install.packages(\"data.table\") \n",
        "install.packages(\"checkmate\")\n",
        "install.packages(\"stringr\") \n",
        "library(data.table)\n",
        "library(tidyverse)\n",
        "library(tm)\n",
        "library(lsa)\n",
        "library(RWeka)\n",
        "library(tidyverse)\n",
        "if(!require(\"R.utils\"))\n",
        "  install.packages(\"R.utils\")\n",
        "library(\"R.utils\")\n",
        "library(checkmate)\n",
        "library(stringr)"
      ],
      "execution_count": 1,
      "outputs": [
        {
          "output_type": "stream",
          "text": [
            "Installing package into ‘/usr/local/lib/R/site-library’\n",
            "(as ‘lib’ is unspecified)\n",
            "\n",
            "also installing the dependency ‘SnowballC’\n",
            "\n",
            "\n",
            "Installing package into ‘/usr/local/lib/R/site-library’\n",
            "(as ‘lib’ is unspecified)\n",
            "\n",
            "also installing the dependencies ‘NLP’, ‘slam’\n",
            "\n",
            "\n",
            "Installing package into ‘/usr/local/lib/R/site-library’\n",
            "(as ‘lib’ is unspecified)\n",
            "\n",
            "also installing the dependencies ‘RWekajars’, ‘rJava’\n",
            "\n",
            "\n",
            "Installing package into ‘/usr/local/lib/R/site-library’\n",
            "(as ‘lib’ is unspecified)\n",
            "\n",
            "Installing package into ‘/usr/local/lib/R/site-library’\n",
            "(as ‘lib’ is unspecified)\n",
            "\n",
            "Installing package into ‘/usr/local/lib/R/site-library’\n",
            "(as ‘lib’ is unspecified)\n",
            "\n",
            "── \u001b[1mAttaching packages\u001b[22m ─────────────────────────────────────── tidyverse 1.3.0 ──\n",
            "\n",
            "\u001b[32m✔\u001b[39m \u001b[34mggplot2\u001b[39m 3.3.3     \u001b[32m✔\u001b[39m \u001b[34mpurrr  \u001b[39m 0.3.4\n",
            "\u001b[32m✔\u001b[39m \u001b[34mtibble \u001b[39m 3.0.4     \u001b[32m✔\u001b[39m \u001b[34mdplyr  \u001b[39m 1.0.2\n",
            "\u001b[32m✔\u001b[39m \u001b[34mtidyr  \u001b[39m 1.1.2     \u001b[32m✔\u001b[39m \u001b[34mstringr\u001b[39m 1.4.0\n",
            "\u001b[32m✔\u001b[39m \u001b[34mreadr  \u001b[39m 1.4.0     \u001b[32m✔\u001b[39m \u001b[34mforcats\u001b[39m 0.5.0\n",
            "\n",
            "── \u001b[1mConflicts\u001b[22m ────────────────────────────────────────── tidyverse_conflicts() ──\n",
            "\u001b[31m✖\u001b[39m \u001b[34mdplyr\u001b[39m::\u001b[32mbetween()\u001b[39m   masks \u001b[34mdata.table\u001b[39m::between()\n",
            "\u001b[31m✖\u001b[39m \u001b[34mdplyr\u001b[39m::\u001b[32mfilter()\u001b[39m    masks \u001b[34mstats\u001b[39m::filter()\n",
            "\u001b[31m✖\u001b[39m \u001b[34mdplyr\u001b[39m::\u001b[32mfirst()\u001b[39m     masks \u001b[34mdata.table\u001b[39m::first()\n",
            "\u001b[31m✖\u001b[39m \u001b[34mdplyr\u001b[39m::\u001b[32mlag()\u001b[39m       masks \u001b[34mstats\u001b[39m::lag()\n",
            "\u001b[31m✖\u001b[39m \u001b[34mdplyr\u001b[39m::\u001b[32mlast()\u001b[39m      masks \u001b[34mdata.table\u001b[39m::last()\n",
            "\u001b[31m✖\u001b[39m \u001b[34mpurrr\u001b[39m::\u001b[32mtranspose()\u001b[39m masks \u001b[34mdata.table\u001b[39m::transpose()\n",
            "\n",
            "Loading required package: NLP\n",
            "\n",
            "\n",
            "Attaching package: ‘NLP’\n",
            "\n",
            "\n",
            "The following object is masked from ‘package:ggplot2’:\n",
            "\n",
            "    annotate\n",
            "\n",
            "\n",
            "Loading required package: SnowballC\n",
            "\n",
            "Loading required package: R.utils\n",
            "\n",
            "Warning message in library(package, lib.loc = lib.loc, character.only = TRUE, logical.return = TRUE, :\n",
            "“there is no package called ‘R.utils’”\n",
            "Installing package into ‘/usr/local/lib/R/site-library’\n",
            "(as ‘lib’ is unspecified)\n",
            "\n",
            "also installing the dependencies ‘R.oo’, ‘R.methodsS3’\n",
            "\n",
            "\n",
            "Loading required package: R.oo\n",
            "\n",
            "Loading required package: R.methodsS3\n",
            "\n",
            "R.methodsS3 v1.8.1 (2020-08-26 16:20:06 UTC) successfully loaded. See ?R.methodsS3 for help.\n",
            "\n",
            "R.oo v1.24.0 (2020-08-26 16:11:58 UTC) successfully loaded. See ?R.oo for help.\n",
            "\n",
            "\n",
            "Attaching package: ‘R.oo’\n",
            "\n",
            "\n",
            "The following object is masked from ‘package:R.methodsS3’:\n",
            "\n",
            "    throw\n",
            "\n",
            "\n",
            "The following objects are masked from ‘package:methods’:\n",
            "\n",
            "    getClasses, getMethods\n",
            "\n",
            "\n",
            "The following objects are masked from ‘package:base’:\n",
            "\n",
            "    attach, detach, load, save\n",
            "\n",
            "\n",
            "R.utils v2.10.1 (2020-08-26 22:50:31 UTC) successfully loaded. See ?R.utils for help.\n",
            "\n",
            "\n",
            "Attaching package: ‘R.utils’\n",
            "\n",
            "\n",
            "The following object is masked from ‘package:tidyr’:\n",
            "\n",
            "    extract\n",
            "\n",
            "\n",
            "The following object is masked from ‘package:utils’:\n",
            "\n",
            "    timestamp\n",
            "\n",
            "\n",
            "The following objects are masked from ‘package:base’:\n",
            "\n",
            "    cat, commandArgs, getOption, inherits, isOpen, nullfile, parse,\n",
            "    warnings\n",
            "\n",
            "\n",
            "\n",
            "Attaching package: ‘checkmate’\n",
            "\n",
            "\n",
            "The following object is masked from ‘package:R.utils’:\n",
            "\n",
            "    asInt\n",
            "\n",
            "\n"
          ],
          "name": "stderr"
        }
      ]
    },
    {
      "cell_type": "markdown",
      "metadata": {
        "id": "AudtbAjk1VPO"
      },
      "source": [
        "---\n",
        "\n",
        "#### Import del text set su Github\n",
        "\n",
        "---\n"
      ]
    },
    {
      "cell_type": "code",
      "metadata": {
        "id": "eJElWchhgXaW"
      },
      "source": [
        "download.file('https://github.com/CavallucciMartina/Coronavirus-tweets-Text-Classification/blob/main/input/Corona_NLP_test.csv.gz?raw=true', 'test.csv.gz') #, method=\"curl\")\n",
        "gunzip('test.csv.gz')\n",
        "download.file('https://github.com/CavallucciMartina/Coronavirus-tweets-Text-Classification/blob/main/input/Corona_NLP_train.csv.gz?raw=true', 'train.csv.gz') #, method=\"curl\")\n",
        "gunzip('train.csv.gz')\n"
      ],
      "execution_count": 2,
      "outputs": []
    },
    {
      "cell_type": "markdown",
      "metadata": {
        "id": "89Qmpxqp1brW"
      },
      "source": [
        "---\n",
        "\n",
        "#### Prima visualizzazione del train set\n",
        "\n",
        "---\n"
      ]
    },
    {
      "cell_type": "code",
      "metadata": {
        "colab": {
          "base_uri": "https://localhost:8080/",
          "height": 381
        },
        "id": "FU3zLbcBhod-",
        "outputId": "bb0db52e-6309-4a01-cf1a-1b70e585d9fe"
      },
      "source": [
        "train <- read.csv(\"train.csv\")\n",
        "test <- read.csv(\"test.csv\")\n",
        "head(train)"
      ],
      "execution_count": 3,
      "outputs": [
        {
          "output_type": "display_data",
          "data": {
            "text/plain": [
              "  UserName ScreenName Location                 TweetAt   \n",
              "1 3799     48751      London                   16-03-2020\n",
              "2 3800     48752      UK                       16-03-2020\n",
              "3 3801     48753      Vagabonds                16-03-2020\n",
              "4 3802     48754                               16-03-2020\n",
              "5 3803     48755                               16-03-2020\n",
              "6 3804     48756      ÜT: 36.319708,-82.363649 16-03-2020\n",
              "  OriginalTweet                                                                                                                                                                                                                                                                                                                     \n",
              "1 @MeNyrbie @Phil_Gahan @Chrisitv https://t.co/iFz9FAn2Pa and https://t.co/xX6ghGFzCC and https://t.co/I2NlzdxNo8                                                                                                                                                                                                                   \n",
              "2 advice Talk to your neighbours family to exchange phone numbers create contact list with phone numbers of neighbours schools employer chemist GP set up online shopping accounts if poss adequate supplies of regular meds but not over order                                                                                     \n",
              "3 Coronavirus Australia: Woolworths to give elderly, disabled dedicated shopping hours amid COVID-19 outbreak https://t.co/bInCA9Vp8P                                                                                                                                                                                               \n",
              "4 My food stock is not the only one which is empty...\\n\\n\\n\\n\\n\\nPLEASE, don't panic, THERE WILL BE ENOUGH FOOD FOR EVERYONE if you do not take more than you need. \\n\\n\\nStay calm, stay safe.\\n\\n\\n\\n\\n\\n#COVID19france #COVID_19 #COVID19 #coronavirus #confinement #Confinementotal #ConfinementGeneral https://t.co/zrlG0Z520j \n",
              "5 Me, ready to go at supermarket during the #COVID19 outbreak.\\n\\n\\n\\n\\n\\nNot because I'm paranoid, but because my food stock is litteraly empty. The #coronavirus is a serious thing, but please, don't panic. It causes shortage...\\n\\n\\n\\n\\n\\n#CoronavirusFrance #restezchezvous #StayAtHome #confinement https://t.co/usmuaLq72n\n",
              "6 As news of the region\\u0092s first confirmed COVID-19 case came out of Sullivan County last week, people flocked to area stores to purchase cleaning supplies, hand sanitizer, food, toilet paper and other goods, @Tim_Dodson reports https://t.co/cfXch7a2lU                                                                    \n",
              "  Sentiment         \n",
              "1 Neutral           \n",
              "2 Positive          \n",
              "3 Positive          \n",
              "4 Positive          \n",
              "5 Extremely Negative\n",
              "6 Positive          "
            ],
            "text/latex": "A data.frame: 6 × 6\n\\begin{tabular}{r|llllll}\n  & UserName & ScreenName & Location & TweetAt & OriginalTweet & Sentiment\\\\\n  & <int> & <int> & <chr> & <chr> & <chr> & <chr>\\\\\n\\hline\n\t1 & 3799 & 48751 & London                   & 16-03-2020 & @MeNyrbie @Phil\\_Gahan @Chrisitv https://t.co/iFz9FAn2Pa and https://t.co/xX6ghGFzCC and https://t.co/I2NlzdxNo8                                                                                                                                                                                                                    & Neutral           \\\\\n\t2 & 3800 & 48752 & UK                       & 16-03-2020 & advice Talk to your neighbours family to exchange phone numbers create contact list with phone numbers of neighbours schools employer chemist GP set up online shopping accounts if poss adequate supplies of regular meds but not over order                                                                                      & Positive          \\\\\n\t3 & 3801 & 48753 & Vagabonds                & 16-03-2020 & Coronavirus Australia: Woolworths to give elderly, disabled dedicated shopping hours amid COVID-19 outbreak https://t.co/bInCA9Vp8P                                                                                                                                                                                                & Positive          \\\\\n\t4 & 3802 & 48754 &                          & 16-03-2020 & My food stock is not the only one which is empty...\n\n\n\n\n\nPLEASE, don't panic, THERE WILL BE ENOUGH FOOD FOR EVERYONE if you do not take more than you need. \n\n\nStay calm, stay safe.\n\n\n\n\n\n\\#COVID19france \\#COVID\\_19 \\#COVID19 \\#coronavirus \\#confinement \\#Confinementotal \\#ConfinementGeneral https://t.co/zrlG0Z520j  & Positive          \\\\\n\t5 & 3803 & 48755 &                          & 16-03-2020 & Me, ready to go at supermarket during the \\#COVID19 outbreak.\n\n\n\n\n\nNot because I'm paranoid, but because my food stock is litteraly empty. The \\#coronavirus is a serious thing, but please, don't panic. It causes shortage...\n\n\n\n\n\n\\#CoronavirusFrance \\#restezchezvous \\#StayAtHome \\#confinement https://t.co/usmuaLq72n & Extremely Negative\\\\\n\t6 & 3804 & 48756 & ÜT: 36.319708,-82.363649 & 16-03-2020 & As news of the regions first confirmed COVID-19 case came out of Sullivan County last week, people flocked to area stores to purchase cleaning supplies, hand sanitizer, food, toilet paper and other goods, @Tim\\_Dodson reports https://t.co/cfXch7a2lU                                                                     & Positive          \\\\\n\\end{tabular}\n",
            "text/markdown": "\nA data.frame: 6 × 6\n\n| <!--/--> | UserName &lt;int&gt; | ScreenName &lt;int&gt; | Location &lt;chr&gt; | TweetAt &lt;chr&gt; | OriginalTweet &lt;chr&gt; | Sentiment &lt;chr&gt; |\n|---|---|---|---|---|---|---|\n| 1 | 3799 | 48751 | London                   | 16-03-2020 | @MeNyrbie @Phil_Gahan @Chrisitv https://t.co/iFz9FAn2Pa and https://t.co/xX6ghGFzCC and https://t.co/I2NlzdxNo8                                                                                                                                                                                                                    | Neutral            |\n| 2 | 3800 | 48752 | UK                       | 16-03-2020 | advice Talk to your neighbours family to exchange phone numbers create contact list with phone numbers of neighbours schools employer chemist GP set up online shopping accounts if poss adequate supplies of regular meds but not over order                                                                                      | Positive           |\n| 3 | 3801 | 48753 | Vagabonds                | 16-03-2020 | Coronavirus Australia: Woolworths to give elderly, disabled dedicated shopping hours amid COVID-19 outbreak https://t.co/bInCA9Vp8P                                                                                                                                                                                                | Positive           |\n| 4 | 3802 | 48754 | <!----> | 16-03-2020 | My food stock is not the only one which is empty...\n\n\n\n\n\nPLEASE, don't panic, THERE WILL BE ENOUGH FOOD FOR EVERYONE if you do not take more than you need. \n\n\nStay calm, stay safe.\n\n\n\n\n\n#COVID19france #COVID_19 #COVID19 #coronavirus #confinement #Confinementotal #ConfinementGeneral https://t.co/zrlG0Z520j  | Positive           |\n| 5 | 3803 | 48755 | <!----> | 16-03-2020 | Me, ready to go at supermarket during the #COVID19 outbreak.\n\n\n\n\n\nNot because I'm paranoid, but because my food stock is litteraly empty. The #coronavirus is a serious thing, but please, don't panic. It causes shortage...\n\n\n\n\n\n#CoronavirusFrance #restezchezvous #StayAtHome #confinement https://t.co/usmuaLq72n | Extremely Negative |\n| 6 | 3804 | 48756 | ÜT: 36.319708,-82.363649 | 16-03-2020 | As news of the regions first confirmed COVID-19 case came out of Sullivan County last week, people flocked to area stores to purchase cleaning supplies, hand sanitizer, food, toilet paper and other goods, @Tim_Dodson reports https://t.co/cfXch7a2lU                                                                     | Positive           |\n\n",
            "text/html": [
              "<table>\n",
              "<caption>A data.frame: 6 × 6</caption>\n",
              "<thead>\n",
              "\t<tr><th></th><th scope=col>UserName</th><th scope=col>ScreenName</th><th scope=col>Location</th><th scope=col>TweetAt</th><th scope=col>OriginalTweet</th><th scope=col>Sentiment</th></tr>\n",
              "\t<tr><th></th><th scope=col>&lt;int&gt;</th><th scope=col>&lt;int&gt;</th><th scope=col>&lt;chr&gt;</th><th scope=col>&lt;chr&gt;</th><th scope=col>&lt;chr&gt;</th><th scope=col>&lt;chr&gt;</th></tr>\n",
              "</thead>\n",
              "<tbody>\n",
              "\t<tr><th scope=row>1</th><td>3799</td><td>48751</td><td>London                  </td><td>16-03-2020</td><td>@MeNyrbie @Phil_Gahan @Chrisitv https://t.co/iFz9FAn2Pa and https://t.co/xX6ghGFzCC and https://t.co/I2NlzdxNo8                                                                                                                                                                                                                   </td><td>Neutral           </td></tr>\n",
              "\t<tr><th scope=row>2</th><td>3800</td><td>48752</td><td>UK                      </td><td>16-03-2020</td><td>advice Talk to your neighbours family to exchange phone numbers create contact list with phone numbers of neighbours schools employer chemist GP set up online shopping accounts if poss adequate supplies of regular meds but not over order                                                                                     </td><td>Positive          </td></tr>\n",
              "\t<tr><th scope=row>3</th><td>3801</td><td>48753</td><td>Vagabonds               </td><td>16-03-2020</td><td>Coronavirus Australia: Woolworths to give elderly, disabled dedicated shopping hours amid COVID-19 outbreak https://t.co/bInCA9Vp8P                                                                                                                                                                                               </td><td>Positive          </td></tr>\n",
              "\t<tr><th scope=row>4</th><td>3802</td><td>48754</td><td>                        </td><td>16-03-2020</td><td>My food stock is not the only one which is empty...\n",
              "\n",
              "\n",
              "\n",
              "\n",
              "\n",
              "PLEASE, don't panic, THERE WILL BE ENOUGH FOOD FOR EVERYONE if you do not take more than you need. \n",
              "\n",
              "\n",
              "Stay calm, stay safe.\n",
              "\n",
              "\n",
              "\n",
              "\n",
              "\n",
              "#COVID19france #COVID_19 #COVID19 #coronavirus #confinement #Confinementotal #ConfinementGeneral https://t.co/zrlG0Z520j </td><td>Positive          </td></tr>\n",
              "\t<tr><th scope=row>5</th><td>3803</td><td>48755</td><td>                        </td><td>16-03-2020</td><td>Me, ready to go at supermarket during the #COVID19 outbreak.\n",
              "\n",
              "\n",
              "\n",
              "\n",
              "\n",
              "Not because I'm paranoid, but because my food stock is litteraly empty. The #coronavirus is a serious thing, but please, don't panic. It causes shortage...\n",
              "\n",
              "\n",
              "\n",
              "\n",
              "\n",
              "#CoronavirusFrance #restezchezvous #StayAtHome #confinement https://t.co/usmuaLq72n</td><td>Extremely Negative</td></tr>\n",
              "\t<tr><th scope=row>6</th><td>3804</td><td>48756</td><td>ÜT: 36.319708,-82.363649</td><td>16-03-2020</td><td>As news of the regions first confirmed COVID-19 case came out of Sullivan County last week, people flocked to area stores to purchase cleaning supplies, hand sanitizer, food, toilet paper and other goods, @Tim_Dodson reports https://t.co/cfXch7a2lU                                                                    </td><td>Positive          </td></tr>\n",
              "</tbody>\n",
              "</table>\n"
            ]
          },
          "metadata": {
            "tags": []
          }
        }
      ]
    },
    {
      "cell_type": "markdown",
      "metadata": {
        "id": "84pLjEnC1gfk"
      },
      "source": [
        "---\n",
        "\n",
        "#### Dimensioni del train set e del test set\n",
        "\n",
        "---\n"
      ]
    },
    {
      "cell_type": "code",
      "metadata": {
        "id": "UgRR_35zjkUF",
        "colab": {
          "base_uri": "https://localhost:8080/",
          "height": 52
        },
        "outputId": "39fab17a-c5ba-429b-ffff-4ad61e1000d1"
      },
      "source": [
        "dim(train)\n",
        "dim(test)"
      ],
      "execution_count": 4,
      "outputs": [
        {
          "output_type": "display_data",
          "data": {
            "text/plain": [
              "[1] 41157     6"
            ],
            "text/latex": "\\begin{enumerate*}\n\\item 41157\n\\item 6\n\\end{enumerate*}\n",
            "text/markdown": "1. 41157\n2. 6\n\n\n",
            "text/html": [
              "<style>\n",
              ".list-inline {list-style: none; margin:0; padding: 0}\n",
              ".list-inline>li {display: inline-block}\n",
              ".list-inline>li:not(:last-child)::after {content: \"\\00b7\"; padding: 0 .5ex}\n",
              "</style>\n",
              "<ol class=list-inline><li>41157</li><li>6</li></ol>\n"
            ]
          },
          "metadata": {
            "tags": []
          }
        },
        {
          "output_type": "display_data",
          "data": {
            "text/plain": [
              "[1] 3798    6"
            ],
            "text/latex": "\\begin{enumerate*}\n\\item 3798\n\\item 6\n\\end{enumerate*}\n",
            "text/markdown": "1. 3798\n2. 6\n\n\n",
            "text/html": [
              "<style>\n",
              ".list-inline {list-style: none; margin:0; padding: 0}\n",
              ".list-inline>li {display: inline-block}\n",
              ".list-inline>li:not(:last-child)::after {content: \"\\00b7\"; padding: 0 .5ex}\n",
              "</style>\n",
              "<ol class=list-inline><li>3798</li><li>6</li></ol>\n"
            ]
          },
          "metadata": {
            "tags": []
          }
        }
      ]
    },
    {
      "cell_type": "markdown",
      "metadata": {
        "id": "rYGGp5jY1zlo"
      },
      "source": [
        "\n",
        "---\n",
        "\n",
        "#### Preparazione analisi risultati di Sentiment in Train\n",
        "\n",
        "---"
      ]
    },
    {
      "cell_type": "code",
      "metadata": {
        "id": "hnRRC1o6rllq",
        "colab": {
          "base_uri": "https://localhost:8080/",
          "height": 34
        },
        "outputId": "addbd059-7f28-42b0-ae40-97713e873d55"
      },
      "source": [
        "library(tidyverse)\n",
        "districtSentiment = count(train,Sentiment)\n",
        "districtSentiment[,c(2)]"
      ],
      "execution_count": 5,
      "outputs": [
        {
          "output_type": "display_data",
          "data": {
            "text/plain": [
              "[1]  5481  6624  9917  7713 11422"
            ],
            "text/latex": "\\begin{enumerate*}\n\\item 5481\n\\item 6624\n\\item 9917\n\\item 7713\n\\item 11422\n\\end{enumerate*}\n",
            "text/markdown": "1. 5481\n2. 6624\n3. 9917\n4. 7713\n5. 11422\n\n\n",
            "text/html": [
              "<style>\n",
              ".list-inline {list-style: none; margin:0; padding: 0}\n",
              ".list-inline>li {display: inline-block}\n",
              ".list-inline>li:not(:last-child)::after {content: \"\\00b7\"; padding: 0 .5ex}\n",
              "</style>\n",
              "<ol class=list-inline><li>5481</li><li>6624</li><li>9917</li><li>7713</li><li>11422</li></ol>\n"
            ]
          },
          "metadata": {
            "tags": []
          }
        }
      ]
    },
    {
      "cell_type": "markdown",
      "metadata": {
        "id": "VSXDGdpB9vnk"
      },
      "source": [
        "---\n",
        "\n",
        "#### Grafico delle percentuali di sentiment nel train set\n",
        "\n",
        "---"
      ]
    },
    {
      "cell_type": "code",
      "metadata": {
        "colab": {
          "base_uri": "https://localhost:8080/",
          "height": 437
        },
        "id": "FVyH0Yy1tiET",
        "outputId": "bc989c17-564f-4cc4-a94f-7ede2bd278c3"
      },
      "source": [
        "sentiment <- c(districtSentiment[,c(2)]) \n",
        "lbls <- c('Positive','Negative','Neutral','Extremely Positive','Extremely Negative')\n",
        "pct <- round(sentiment/sum(sentiment)*100)\n",
        "lbls <- paste(lbls, pct) # add percents to labels\n",
        "lbls <- paste(lbls,\"%\",sep=\"\") # ad % to labels\n",
        "pie(sentiment,labels = lbls, col=rainbow(length(lbls)),\n",
        "   main=\"Pie Chart of sentiment\") "
      ],
      "execution_count": 6,
      "outputs": [
        {
          "output_type": "display_data",
          "data": {
            "image/png": "[encoded data removed]",
            "text/plain": [
              "Plot with title “Pie Chart of sentiment”"
            ]
          },
          "metadata": {
            "tags": [],
            "image/png": {
              "width": 420,
              "height": 420
            }
          }
        }
      ]
    },
    {
      "cell_type": "code",
      "metadata": {
        "id": "WMmlueClv--L"
      },
      "source": [
        "y=copy(train$Sentiment )"
      ],
      "execution_count": null,
      "outputs": []
    },
    {
      "cell_type": "markdown",
      "metadata": {
        "id": "kTKe5blsvUTt"
      },
      "source": [
        "---\n",
        "\n",
        "#### Preparazione train per classificazione; trasformazione da 5 classi a 3: Positive, Negative, Neutral\n",
        "\n",
        "---"
      ]
    },
    {
      "cell_type": "code",
      "metadata": {
        "id": "AZI1k08TzCeW"
      },
      "source": [
        "new_train = data.frame(\n",
        "                text = train$OriginalTweet,\n",
        "                labels = train$Sentiment,\n",
        "                stringsAsFactors=F)\n",
        "\n",
        "new_test = data.frame(\n",
        "                text = test$OriginalTweet,\n",
        "                labels = test$Sentiment,\n",
        "                stringsAsFactors=F)\n"
      ],
      "execution_count": 7,
      "outputs": []
    },
    {
      "cell_type": "code",
      "metadata": {
        "id": "9WxDMG-T0NEz"
      },
      "source": [
        "# Data has 5 classes, let's convert them to 3\n",
        "\n",
        "classes_def <- function(x)\n",
        "    if (x ==  \"Extremely Positive\"){\n",
        "         \"2\"\n",
        "    }else if( x == \"Extremely Negative\"){\n",
        "         \"0\"\n",
        "    }else if(x == \"Negative\"){\n",
        "         \"0\"\n",
        "    }else if(x ==  \"Positive\"){\n",
        "         \"2\"\n",
        "    }else {\n",
        "         \"1\"\n",
        "    }\n",
        "\n",
        "\n",
        "new_train$labels = lapply(new_train$labels, function(x) classes_def(x))\n",
        "new_test$labels = lapply(new_test$labels, function(x) classes_def(x))\n",
        "#new_train$labels.value_counts(normalize= True)"
      ],
      "execution_count": 8,
      "outputs": []
    },
    {
      "cell_type": "markdown",
      "metadata": {
        "id": "JEzvBji6wKqC"
      },
      "source": [
        "---\n",
        "\n",
        "#### Creazione del corpus\n",
        "\n",
        "---"
      ]
    },
    {
      "cell_type": "code",
      "metadata": {
        "id": "Af5EoixYy4jV"
      },
      "source": [
        "install.packages(\"quanteda\") \n",
        "library(quanteda)"
      ],
      "execution_count": null,
      "outputs": []
    },
    {
      "cell_type": "code",
      "metadata": {
        "id": "nxB1JreDy6EL"
      },
      "source": [
        "corp_immig <- corpus(new_train)\n",
        "summary(corp_immig)\n"
      ],
      "execution_count": null,
      "outputs": []
    },
    {
      "cell_type": "code",
      "metadata": {
        "id": "r8-TDKHF1Tz2"
      },
      "source": [
        "texts(corp_immig)[3]\n",
        "new_train$labels[3]\n",
        "# 2 -> Positive"
      ],
      "execution_count": null,
      "outputs": []
    },
    {
      "cell_type": "code",
      "metadata": {
        "id": "61nTKQHw17X2"
      },
      "source": [
        "kwic(corp_immig, \"covid\", window=4)"
      ],
      "execution_count": null,
      "outputs": []
    },
    {
      "cell_type": "code",
      "metadata": {
        "id": "-x89qQwB2LJy"
      },
      "source": [
        "kwic(corp_immig, \"pandemic\", window=6)"
      ],
      "execution_count": null,
      "outputs": []
    },
    {
      "cell_type": "markdown",
      "metadata": {
        "id": "d14_GCcAOMqF"
      },
      "source": [
        "---\n",
        "\n",
        "#### Creazione matrice documenti-termini\n",
        "\n",
        "---"
      ]
    },
    {
      "cell_type": "code",
      "metadata": {
        "id": "FAl-8lOm21D1"
      },
      "source": [
        "doc_term_matrix <- quanteda::dfm(corp_immig,\n",
        "                                 tolower = TRUE, \n",
        "                                 removeNumbers = TRUE,              \n",
        "                                 stem = FALSE,                \n",
        "                                 remove_punct = TRUE,  \n",
        "                                 removeSeparators = TRUE,        \n",
        "                                 remove = stopwords(\"english\"), \n",
        "                                 ngrams = 1) "
      ],
      "execution_count": null,
      "outputs": []
    },
    {
      "cell_type": "markdown",
      "metadata": {
        "id": "mGnIo43dOR7c"
      },
      "source": [
        "---\n",
        "\n",
        "#### Text cleaning\n",
        "\n",
        "---"
      ]
    },
    {
      "cell_type": "code",
      "metadata": {
        "id": "IE0ZWjdF27FY"
      },
      "source": [
        "doc_term_matrix <- dfm_select(doc_term_matrix, \"(http|https)://([^\\\\s]+)\", selection = \"remove\", valuetype = \"regex\")\n",
        "doc_term_matrix <- dfm_select(doc_term_matrix, \"<.*?>\", selection = \"remove\", valuetype = \"regex\")\n",
        "doc_term_matrix <- dfm_select(doc_term_matrix, \"#\\\\w+\", selection = \"remove\", valuetype = \"regex\")\n",
        "doc_term_matrix <- dfm_select(doc_term_matrix, \"@\\\\w+\", selection = \"remove\", valuetype = \"regex\")\n",
        "doc_term_matrix <- dfm_select(doc_term_matrix, \"\\\\d+\", selection = \"remove\", valuetype = \"regex\")\n",
        "doc_term_matrix <- dfm_select(doc_term_matrix, \"\\\\s+\", selection = \"remove\", valuetype = \"regex\")\n",
        "doc_term_matrix <- dfm_select(doc_term_matrix, \"(s|t)\", selection = \"remove\", valuetype = \"regex\")"
      ],
      "execution_count": 114,
      "outputs": []
    },
    {
      "cell_type": "code",
      "metadata": {
        "id": "SmoYy8Ap30Mq"
      },
      "source": [
        "doc_term_matrix[1:5,1:5]"
      ],
      "execution_count": null,
      "outputs": []
    },
    {
      "cell_type": "code",
      "metadata": {
        "id": "gebKdQwA7pIy"
      },
      "source": [
        "topfeatures(doc_term_matrix,15)"
      ],
      "execution_count": null,
      "outputs": []
    },
    {
      "cell_type": "markdown",
      "metadata": {
        "id": "tw6AnHoXOVdA"
      },
      "source": [
        "---\n",
        "\n",
        "#### Generazione wordcloud\n",
        "\n",
        "---"
      ]
    },
    {
      "cell_type": "code",
      "metadata": {
        "id": "PIro3XdwGnq1"
      },
      "source": [
        "set.seed(100)\n",
        "textplot_wordcloud(doc_term_matrix, min_count = 200, random_order = FALSE,\n",
        "                   rotation = .25, \n",
        "                   color = RColorBrewer::brewer.pal(8,\"Dark2\"))"
      ],
      "execution_count": null,
      "outputs": []
    },
    {
      "cell_type": "code",
      "metadata": {
        "id": "bVTIQNuULzre"
      },
      "source": [
        "dict <- featnames(doc_term_matrix)\n",
        "dict"
      ],
      "execution_count": null,
      "outputs": []
    },
    {
      "cell_type": "markdown",
      "metadata": {
        "id": "uQU0_ItUOahx"
      },
      "source": [
        "---\n",
        "\n",
        "## **Classificazione**\n",
        "\n",
        "---"
      ]
    }
  ]
}