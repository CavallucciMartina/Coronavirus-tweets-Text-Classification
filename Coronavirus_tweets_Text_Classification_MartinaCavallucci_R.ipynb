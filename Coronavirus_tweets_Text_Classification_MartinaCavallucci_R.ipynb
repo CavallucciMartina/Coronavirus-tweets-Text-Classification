{
  "nbformat": 4,
  "nbformat_minor": 0,
  "metadata": {
    "colab": {
      "name": "Coronavirus tweets-Text Classification-MartinaCavallucci.R.ipynb",
      "provenance": [],
      "collapsed_sections": [],
      "toc_visible": true
    },
    "kernelspec": {
      "display_name": "R",
      "name": "ir"
    }
  },
  "cells": [
    {
      "cell_type": "markdown",
      "metadata": {
        "id": "qJfOVJGWz_XP"
      },
      "source": [
        "# **Coronavirus tweets-Text Classification**\n",
        "\n",
        "*Questo script R esegue una modellazione e una classificazione di testi di tweet durante il periodo di Marzo 2019 e Aprile 2019.\n",
        "Tali tweet si riferiscono ad un topic specifico: Covid-19.\n",
        "L'obiettivo è quello di classificazione dei tweet rispetto al sentiment (Positive, Negative, Neutral).*\n",
        "\n"
      ]
    },
    {
      "cell_type": "markdown",
      "metadata": {
        "id": "vjTyI4yi1Dwd"
      },
      "source": [
        "---\n",
        "\n",
        "#### Import delle librerie R e di Text Mining\n",
        "##### Questa operazione impiega alcuni minuti\n",
        "---\n",
        "\n",
        "\n"
      ]
    },
    {
      "cell_type": "code",
      "metadata": {
        "id": "Nwh1UhZ6fZ22"
      },
      "source": [
        "install.packages(\"data.table\")\n",
        "library(data.table) \n",
        "install.packages(\"checkmate\")\n",
        "library(checkmate)\n",
        "install.packages(\"stringr\") \n",
        "library(stringr)\n",
        "install.packages(\"caret\") \n",
        "library(caret)\n",
        "install.packages(\"quanteda\") \n",
        "library(quanteda)\n",
        "install.packages(\"quanteda.textmodels\")\n",
        "library(quanteda.textmodels)\n",
        "install.packages(\"R.utils\")\n",
        "library(\"R.utils\")\n",
        "library(tidyverse)\n",
        "install.packages(\"e1071\")\n",
        "library(e1071)"
      ],
      "execution_count": null,
      "outputs": []
    },
    {
      "cell_type": "markdown",
      "metadata": {
        "id": "AudtbAjk1VPO"
      },
      "source": [
        "---\n",
        "\n",
        "#### Import del text set da Github\n",
        "\n",
        "---\n"
      ]
    },
    {
      "cell_type": "code",
      "metadata": {
        "id": "eJElWchhgXaW"
      },
      "source": [
        "download.file('https://github.com/CavallucciMartina/Coronavirus-tweets-Text-Classification/blob/main/input/Corona_NLP_test.csv.gz?raw=true', 'test.csv.gz') #, method=\"curl\")\n",
        "gunzip('test.csv.gz')\n",
        "download.file('https://github.com/CavallucciMartina/Coronavirus-tweets-Text-Classification/blob/main/input/Corona_NLP_train.csv.gz?raw=true', 'train.csv.gz') #, method=\"curl\")\n",
        "gunzip('train.csv.gz')"
      ],
      "execution_count": 4,
      "outputs": []
    },
    {
      "cell_type": "markdown",
      "metadata": {
        "id": "89Qmpxqp1brW"
      },
      "source": [
        "---\n",
        "\n",
        "#### Prima visualizzazione del train set\n",
        "\n",
        "---\n"
      ]
    },
    {
      "cell_type": "code",
      "metadata": {
        "id": "FU3zLbcBhod-",
        "colab": {
          "base_uri": "https://localhost:8080/",
          "height": 381
        },
        "outputId": "6379cb3a-10d2-48d6-c286-93429b0028a4"
      },
      "source": [
        "train <- read.csv(\"train.csv\")\n",
        "test <- read.csv(\"test.csv\")\n",
        "head(train)"
      ],
      "execution_count": 37,
      "outputs": [
        {
          "output_type": "display_data",
          "data": {
            "text/plain": [
              "  UserName ScreenName Location                 TweetAt   \n",
              "1 3799     48751      London                   16-03-2020\n",
              "2 3800     48752      UK                       16-03-2020\n",
              "3 3801     48753      Vagabonds                16-03-2020\n",
              "4 3802     48754                               16-03-2020\n",
              "5 3803     48755                               16-03-2020\n",
              "6 3804     48756      ÜT: 36.319708,-82.363649 16-03-2020\n",
              "  OriginalTweet                                                                                                                                                                                                                                                                                                                     \n",
              "1 @MeNyrbie @Phil_Gahan @Chrisitv https://t.co/iFz9FAn2Pa and https://t.co/xX6ghGFzCC and https://t.co/I2NlzdxNo8                                                                                                                                                                                                                   \n",
              "2 advice Talk to your neighbours family to exchange phone numbers create contact list with phone numbers of neighbours schools employer chemist GP set up online shopping accounts if poss adequate supplies of regular meds but not over order                                                                                     \n",
              "3 Coronavirus Australia: Woolworths to give elderly, disabled dedicated shopping hours amid COVID-19 outbreak https://t.co/bInCA9Vp8P                                                                                                                                                                                               \n",
              "4 My food stock is not the only one which is empty...\\n\\n\\n\\n\\n\\nPLEASE, don't panic, THERE WILL BE ENOUGH FOOD FOR EVERYONE if you do not take more than you need. \\n\\n\\nStay calm, stay safe.\\n\\n\\n\\n\\n\\n#COVID19france #COVID_19 #COVID19 #coronavirus #confinement #Confinementotal #ConfinementGeneral https://t.co/zrlG0Z520j \n",
              "5 Me, ready to go at supermarket during the #COVID19 outbreak.\\n\\n\\n\\n\\n\\nNot because I'm paranoid, but because my food stock is litteraly empty. The #coronavirus is a serious thing, but please, don't panic. It causes shortage...\\n\\n\\n\\n\\n\\n#CoronavirusFrance #restezchezvous #StayAtHome #confinement https://t.co/usmuaLq72n\n",
              "6 As news of the region\\u0092s first confirmed COVID-19 case came out of Sullivan County last week, people flocked to area stores to purchase cleaning supplies, hand sanitizer, food, toilet paper and other goods, @Tim_Dodson reports https://t.co/cfXch7a2lU                                                                    \n",
              "  Sentiment         \n",
              "1 Neutral           \n",
              "2 Positive          \n",
              "3 Positive          \n",
              "4 Positive          \n",
              "5 Extremely Negative\n",
              "6 Positive          "
            ],
            "text/latex": "A data.frame: 6 × 6\n\\begin{tabular}{r|llllll}\n  & UserName & ScreenName & Location & TweetAt & OriginalTweet & Sentiment\\\\\n  & <int> & <int> & <chr> & <chr> & <chr> & <chr>\\\\\n\\hline\n\t1 & 3799 & 48751 & London                   & 16-03-2020 & @MeNyrbie @Phil\\_Gahan @Chrisitv https://t.co/iFz9FAn2Pa and https://t.co/xX6ghGFzCC and https://t.co/I2NlzdxNo8                                                                                                                                                                                                                    & Neutral           \\\\\n\t2 & 3800 & 48752 & UK                       & 16-03-2020 & advice Talk to your neighbours family to exchange phone numbers create contact list with phone numbers of neighbours schools employer chemist GP set up online shopping accounts if poss adequate supplies of regular meds but not over order                                                                                      & Positive          \\\\\n\t3 & 3801 & 48753 & Vagabonds                & 16-03-2020 & Coronavirus Australia: Woolworths to give elderly, disabled dedicated shopping hours amid COVID-19 outbreak https://t.co/bInCA9Vp8P                                                                                                                                                                                                & Positive          \\\\\n\t4 & 3802 & 48754 &                          & 16-03-2020 & My food stock is not the only one which is empty...\n\n\n\n\n\nPLEASE, don't panic, THERE WILL BE ENOUGH FOOD FOR EVERYONE if you do not take more than you need. \n\n\nStay calm, stay safe.\n\n\n\n\n\n\\#COVID19france \\#COVID\\_19 \\#COVID19 \\#coronavirus \\#confinement \\#Confinementotal \\#ConfinementGeneral https://t.co/zrlG0Z520j  & Positive          \\\\\n\t5 & 3803 & 48755 &                          & 16-03-2020 & Me, ready to go at supermarket during the \\#COVID19 outbreak.\n\n\n\n\n\nNot because I'm paranoid, but because my food stock is litteraly empty. The \\#coronavirus is a serious thing, but please, don't panic. It causes shortage...\n\n\n\n\n\n\\#CoronavirusFrance \\#restezchezvous \\#StayAtHome \\#confinement https://t.co/usmuaLq72n & Extremely Negative\\\\\n\t6 & 3804 & 48756 & ÜT: 36.319708,-82.363649 & 16-03-2020 & As news of the regions first confirmed COVID-19 case came out of Sullivan County last week, people flocked to area stores to purchase cleaning supplies, hand sanitizer, food, toilet paper and other goods, @Tim\\_Dodson reports https://t.co/cfXch7a2lU                                                                     & Positive          \\\\\n\\end{tabular}\n",
            "text/markdown": "\nA data.frame: 6 × 6\n\n| <!--/--> | UserName &lt;int&gt; | ScreenName &lt;int&gt; | Location &lt;chr&gt; | TweetAt &lt;chr&gt; | OriginalTweet &lt;chr&gt; | Sentiment &lt;chr&gt; |\n|---|---|---|---|---|---|---|\n| 1 | 3799 | 48751 | London                   | 16-03-2020 | @MeNyrbie @Phil_Gahan @Chrisitv https://t.co/iFz9FAn2Pa and https://t.co/xX6ghGFzCC and https://t.co/I2NlzdxNo8                                                                                                                                                                                                                    | Neutral            |\n| 2 | 3800 | 48752 | UK                       | 16-03-2020 | advice Talk to your neighbours family to exchange phone numbers create contact list with phone numbers of neighbours schools employer chemist GP set up online shopping accounts if poss adequate supplies of regular meds but not over order                                                                                      | Positive           |\n| 3 | 3801 | 48753 | Vagabonds                | 16-03-2020 | Coronavirus Australia: Woolworths to give elderly, disabled dedicated shopping hours amid COVID-19 outbreak https://t.co/bInCA9Vp8P                                                                                                                                                                                                | Positive           |\n| 4 | 3802 | 48754 | <!----> | 16-03-2020 | My food stock is not the only one which is empty...\n\n\n\n\n\nPLEASE, don't panic, THERE WILL BE ENOUGH FOOD FOR EVERYONE if you do not take more than you need. \n\n\nStay calm, stay safe.\n\n\n\n\n\n#COVID19france #COVID_19 #COVID19 #coronavirus #confinement #Confinementotal #ConfinementGeneral https://t.co/zrlG0Z520j  | Positive           |\n| 5 | 3803 | 48755 | <!----> | 16-03-2020 | Me, ready to go at supermarket during the #COVID19 outbreak.\n\n\n\n\n\nNot because I'm paranoid, but because my food stock is litteraly empty. The #coronavirus is a serious thing, but please, don't panic. It causes shortage...\n\n\n\n\n\n#CoronavirusFrance #restezchezvous #StayAtHome #confinement https://t.co/usmuaLq72n | Extremely Negative |\n| 6 | 3804 | 48756 | ÜT: 36.319708,-82.363649 | 16-03-2020 | As news of the regions first confirmed COVID-19 case came out of Sullivan County last week, people flocked to area stores to purchase cleaning supplies, hand sanitizer, food, toilet paper and other goods, @Tim_Dodson reports https://t.co/cfXch7a2lU                                                                     | Positive           |\n\n",
            "text/html": [
              "<table>\n",
              "<caption>A data.frame: 6 × 6</caption>\n",
              "<thead>\n",
              "\t<tr><th></th><th scope=col>UserName</th><th scope=col>ScreenName</th><th scope=col>Location</th><th scope=col>TweetAt</th><th scope=col>OriginalTweet</th><th scope=col>Sentiment</th></tr>\n",
              "\t<tr><th></th><th scope=col>&lt;int&gt;</th><th scope=col>&lt;int&gt;</th><th scope=col>&lt;chr&gt;</th><th scope=col>&lt;chr&gt;</th><th scope=col>&lt;chr&gt;</th><th scope=col>&lt;chr&gt;</th></tr>\n",
              "</thead>\n",
              "<tbody>\n",
              "\t<tr><th scope=row>1</th><td>3799</td><td>48751</td><td>London                  </td><td>16-03-2020</td><td>@MeNyrbie @Phil_Gahan @Chrisitv https://t.co/iFz9FAn2Pa and https://t.co/xX6ghGFzCC and https://t.co/I2NlzdxNo8                                                                                                                                                                                                                   </td><td>Neutral           </td></tr>\n",
              "\t<tr><th scope=row>2</th><td>3800</td><td>48752</td><td>UK                      </td><td>16-03-2020</td><td>advice Talk to your neighbours family to exchange phone numbers create contact list with phone numbers of neighbours schools employer chemist GP set up online shopping accounts if poss adequate supplies of regular meds but not over order                                                                                     </td><td>Positive          </td></tr>\n",
              "\t<tr><th scope=row>3</th><td>3801</td><td>48753</td><td>Vagabonds               </td><td>16-03-2020</td><td>Coronavirus Australia: Woolworths to give elderly, disabled dedicated shopping hours amid COVID-19 outbreak https://t.co/bInCA9Vp8P                                                                                                                                                                                               </td><td>Positive          </td></tr>\n",
              "\t<tr><th scope=row>4</th><td>3802</td><td>48754</td><td>                        </td><td>16-03-2020</td><td>My food stock is not the only one which is empty...\n",
              "\n",
              "\n",
              "\n",
              "\n",
              "\n",
              "PLEASE, don't panic, THERE WILL BE ENOUGH FOOD FOR EVERYONE if you do not take more than you need. \n",
              "\n",
              "\n",
              "Stay calm, stay safe.\n",
              "\n",
              "\n",
              "\n",
              "\n",
              "\n",
              "#COVID19france #COVID_19 #COVID19 #coronavirus #confinement #Confinementotal #ConfinementGeneral https://t.co/zrlG0Z520j </td><td>Positive          </td></tr>\n",
              "\t<tr><th scope=row>5</th><td>3803</td><td>48755</td><td>                        </td><td>16-03-2020</td><td>Me, ready to go at supermarket during the #COVID19 outbreak.\n",
              "\n",
              "\n",
              "\n",
              "\n",
              "\n",
              "Not because I'm paranoid, but because my food stock is litteraly empty. The #coronavirus is a serious thing, but please, don't panic. It causes shortage...\n",
              "\n",
              "\n",
              "\n",
              "\n",
              "\n",
              "#CoronavirusFrance #restezchezvous #StayAtHome #confinement https://t.co/usmuaLq72n</td><td>Extremely Negative</td></tr>\n",
              "\t<tr><th scope=row>6</th><td>3804</td><td>48756</td><td>ÜT: 36.319708,-82.363649</td><td>16-03-2020</td><td>As news of the regions first confirmed COVID-19 case came out of Sullivan County last week, people flocked to area stores to purchase cleaning supplies, hand sanitizer, food, toilet paper and other goods, @Tim_Dodson reports https://t.co/cfXch7a2lU                                                                    </td><td>Positive          </td></tr>\n",
              "</tbody>\n",
              "</table>\n"
            ]
          },
          "metadata": {
            "tags": []
          }
        }
      ]
    },
    {
      "cell_type": "markdown",
      "metadata": {
        "id": "84pLjEnC1gfk"
      },
      "source": [
        "---\n",
        "\n",
        "#### Dimensioni del train set e del test set\n",
        "\n",
        "---\n"
      ]
    },
    {
      "cell_type": "code",
      "metadata": {
        "id": "UgRR_35zjkUF",
        "colab": {
          "base_uri": "https://localhost:8080/",
          "height": 52
        },
        "outputId": "0999c6d9-9329-48f9-9936-90e931a95e36"
      },
      "source": [
        "dim(train)\n",
        "dim(test)"
      ],
      "execution_count": 6,
      "outputs": [
        {
          "output_type": "display_data",
          "data": {
            "text/plain": [
              "[1] 41157     6"
            ],
            "text/latex": "\\begin{enumerate*}\n\\item 41157\n\\item 6\n\\end{enumerate*}\n",
            "text/markdown": "1. 41157\n2. 6\n\n\n",
            "text/html": [
              "<style>\n",
              ".list-inline {list-style: none; margin:0; padding: 0}\n",
              ".list-inline>li {display: inline-block}\n",
              ".list-inline>li:not(:last-child)::after {content: \"\\00b7\"; padding: 0 .5ex}\n",
              "</style>\n",
              "<ol class=list-inline><li>41157</li><li>6</li></ol>\n"
            ]
          },
          "metadata": {
            "tags": []
          }
        },
        {
          "output_type": "display_data",
          "data": {
            "text/plain": [
              "[1] 3798    6"
            ],
            "text/latex": "\\begin{enumerate*}\n\\item 3798\n\\item 6\n\\end{enumerate*}\n",
            "text/markdown": "1. 3798\n2. 6\n\n\n",
            "text/html": [
              "<style>\n",
              ".list-inline {list-style: none; margin:0; padding: 0}\n",
              ".list-inline>li {display: inline-block}\n",
              ".list-inline>li:not(:last-child)::after {content: \"\\00b7\"; padding: 0 .5ex}\n",
              "</style>\n",
              "<ol class=list-inline><li>3798</li><li>6</li></ol>\n"
            ]
          },
          "metadata": {
            "tags": []
          }
        }
      ]
    },
    {
      "cell_type": "markdown",
      "metadata": {
        "id": "rYGGp5jY1zlo"
      },
      "source": [
        "\n",
        "---\n",
        "\n",
        "#### Preparazione analisi risultati di Sentiment in Train\n",
        "\n",
        "---"
      ]
    },
    {
      "cell_type": "code",
      "metadata": {
        "id": "hnRRC1o6rllq",
        "colab": {
          "base_uri": "https://localhost:8080/",
          "height": 186
        },
        "outputId": "f3153be4-9eab-4ae9-df8c-702e4ee24db5"
      },
      "source": [
        "#Conto quanti record ci sono per ogni Sentiment distinto\n",
        "uniqueSentiment = count(train,Sentiment)\n",
        "uniqueSentiment"
      ],
      "execution_count": 7,
      "outputs": [
        {
          "output_type": "display_data",
          "data": {
            "text/plain": [
              "  Sentiment          n    \n",
              "1 Extremely Negative  5481\n",
              "2 Extremely Positive  6624\n",
              "3 Negative            9917\n",
              "4 Neutral             7713\n",
              "5 Positive           11422"
            ],
            "text/latex": "A data.frame: 5 × 2\n\\begin{tabular}{r|ll}\n  & Sentiment & n\\\\\n  & <chr> & <int>\\\\\n\\hline\n\t1 & Extremely Negative &  5481\\\\\n\t2 & Extremely Positive &  6624\\\\\n\t3 & Negative           &  9917\\\\\n\t4 & Neutral            &  7713\\\\\n\t5 & Positive           & 11422\\\\\n\\end{tabular}\n",
            "text/markdown": "\nA data.frame: 5 × 2\n\n| <!--/--> | Sentiment &lt;chr&gt; | n &lt;int&gt; |\n|---|---|---|\n| 1 | Extremely Negative |  5481 |\n| 2 | Extremely Positive |  6624 |\n| 3 | Negative           |  9917 |\n| 4 | Neutral            |  7713 |\n| 5 | Positive           | 11422 |\n\n",
            "text/html": [
              "<table>\n",
              "<caption>A data.frame: 5 × 2</caption>\n",
              "<thead>\n",
              "\t<tr><th></th><th scope=col>Sentiment</th><th scope=col>n</th></tr>\n",
              "\t<tr><th></th><th scope=col>&lt;chr&gt;</th><th scope=col>&lt;int&gt;</th></tr>\n",
              "</thead>\n",
              "<tbody>\n",
              "\t<tr><th scope=row>1</th><td>Extremely Negative</td><td> 5481</td></tr>\n",
              "\t<tr><th scope=row>2</th><td>Extremely Positive</td><td> 6624</td></tr>\n",
              "\t<tr><th scope=row>3</th><td>Negative          </td><td> 9917</td></tr>\n",
              "\t<tr><th scope=row>4</th><td>Neutral           </td><td> 7713</td></tr>\n",
              "\t<tr><th scope=row>5</th><td>Positive          </td><td>11422</td></tr>\n",
              "</tbody>\n",
              "</table>\n"
            ]
          },
          "metadata": {
            "tags": []
          }
        }
      ]
    },
    {
      "cell_type": "markdown",
      "metadata": {
        "id": "VSXDGdpB9vnk"
      },
      "source": [
        "---\n",
        "\n",
        "#### Grafico delle percentuali di sentiment nel train set\n",
        "\n",
        "---"
      ]
    },
    {
      "cell_type": "code",
      "metadata": {
        "id": "FVyH0Yy1tiET",
        "colab": {
          "base_uri": "https://localhost:8080/",
          "height": 437
        },
        "outputId": "87a98cba-40dd-4fbc-954e-4613442bec42"
      },
      "source": [
        "#jpeg(\"PieChartSentiment.jpg\")\n",
        "sentiment <- c(uniqueSentiment[,c(2)]) \n",
        "lbls <- c('Positive','Negative','Neutral','Extremely Positive','Extremely Negative')\n",
        "#Calcolo percentuali\n",
        "pct <- round(sentiment/sum(sentiment)*100)\n",
        "lbls <- paste(lbls, pct) # Aggiunta delle percentuali alle etichette\n",
        "lbls <- paste(lbls,\"%\",sep=\"\") \n",
        "pie(sentiment,labels = lbls, col=c(\"#66CC00\",\"#CC0000\",\"#CCCCCC\",\"#336600\",\"#990000\"),\n",
        "   main=\"Pie Chart of sentiment\") \n",
        "#dev.off()"
      ],
      "execution_count": 8,
      "outputs": [
        {
          "output_type": "display_data",
          "data": {
            "image/png": "[encoded data removed]",
            "text/plain": [
              "Plot with title “Pie Chart of sentiment”"
            ]
          },
          "metadata": {
            "tags": [],
            "image/png": {
              "width": 420,
              "height": 420
            }
          }
        }
      ]
    },
    {
      "cell_type": "markdown",
      "metadata": {
        "id": "kTKe5blsvUTt"
      },
      "source": [
        "---\n",
        "\n",
        "#### Preparazione train e test per classificazione.\n",
        "Trasformazione da 5 classi a 3: Positive, Negative, Neutral\n",
        "\n",
        "---"
      ]
    },
    {
      "cell_type": "code",
      "metadata": {
        "id": "AZI1k08TzCeW"
      },
      "source": [
        "#Seleziono solo il testo dei tweet e il Sentiment tra train e test iniziale\n",
        "new_train = data.frame(\n",
        "                text = train$OriginalTweet,\n",
        "                labels = train$Sentiment,\n",
        "                stringsAsFactors=F)\n",
        "\n",
        "new_test = data.frame(\n",
        "                text = test$OriginalTweet,\n",
        "                labels = test$Sentiment,\n",
        "                stringsAsFactors=F)"
      ],
      "execution_count": 38,
      "outputs": []
    },
    {
      "cell_type": "code",
      "metadata": {
        "id": "iQZnc_jbaZqs"
      },
      "source": [
        "#Free memory\n",
        "rm(train)\n",
        "rm(test)"
      ],
      "execution_count": 10,
      "outputs": []
    },
    {
      "cell_type": "code",
      "metadata": {
        "id": "9WxDMG-T0NEz",
        "colab": {
          "base_uri": "https://localhost:8080/",
          "height": 161
        },
        "outputId": "3af524f8-3a2c-4fb7-9200-bc6c95d6f2e1"
      },
      "source": [
        "# Seleziono solo 3 classi e non 5.\n",
        "\n",
        "classes_def <- function(x)\n",
        "    if (x ==  \"Extremely Positive\"){\n",
        "         \"2\"\n",
        "    }else if( x == \"Extremely Negative\"){\n",
        "         \"0\"\n",
        "    }else if(x == \"Negative\"){\n",
        "         \"0\"\n",
        "    }else if(x ==  \"Positive\"){\n",
        "         \"2\"\n",
        "    }else {\n",
        "         \"1\"\n",
        "    }\n",
        "\n",
        "new_train$labels = lapply(new_train$labels, function(x) classes_def(x))\n",
        "new_test$labels = lapply(new_test$labels, function(x) classes_def(x))\n",
        "\n",
        "#Ricalcolo i valori distinti per il Sentiment dopo il mapping\n",
        "uniqueSentiment_trasf = count(new_train,labels)\n",
        "uniqueSentiment_trasf"
      ],
      "execution_count": 40,
      "outputs": [
        {
          "output_type": "display_data",
          "data": {
            "text/plain": [
              "  labels n    \n",
              "1 1       7713\n",
              "2 2      18046\n",
              "3 0      15398"
            ],
            "text/latex": "A data.frame: 3 × 2\n\\begin{tabular}{r|ll}\n  & labels & n\\\\\n  & <list> & <int>\\\\\n\\hline\n\t1 & 1 &  7713\\\\\n\t2 & 2 & 18046\\\\\n\t3 & 0 & 15398\\\\\n\\end{tabular}\n",
            "text/markdown": "\nA data.frame: 3 × 2\n\n| <!--/--> | labels &lt;list&gt; | n &lt;int&gt; |\n|---|---|---|\n| 1 | 1 |  7713 |\n| 2 | 2 | 18046 |\n| 3 | 0 | 15398 |\n\n",
            "text/html": [
              "<table>\n",
              "<caption>A data.frame: 3 × 2</caption>\n",
              "<thead>\n",
              "\t<tr><th></th><th scope=col>labels</th><th scope=col>n</th></tr>\n",
              "\t<tr><th></th><th scope=col>&lt;list&gt;</th><th scope=col>&lt;int&gt;</th></tr>\n",
              "</thead>\n",
              "<tbody>\n",
              "\t<tr><th scope=row>1</th><td>1</td><td> 7713</td></tr>\n",
              "\t<tr><th scope=row>2</th><td>2</td><td>18046</td></tr>\n",
              "\t<tr><th scope=row>3</th><td>0</td><td>15398</td></tr>\n",
              "</tbody>\n",
              "</table>\n"
            ]
          },
          "metadata": {
            "tags": []
          }
        }
      ]
    },
    {
      "cell_type": "code",
      "metadata": {
        "id": "Fny3cy98k9Xy",
        "colab": {
          "base_uri": "https://localhost:8080/",
          "height": 437
        },
        "outputId": "ee60cd24-7a1a-41cd-e3e1-cacae68a306a"
      },
      "source": [
        "#jpeg(\"PieChartSentiment.jpg\")\n",
        "sentiment <- c(uniqueSentiment_trasf[,c(2)]) \n",
        "lbls <- c('Positive','Negative','Neutral')\n",
        "pct <- round(sentiment/sum(sentiment)*100)\n",
        "lbls <- paste(lbls, pct) # add percents to labels\n",
        "lbls <- paste(lbls,\"%\",sep=\"\") # ad % to labels\n",
        "pie(sentiment,labels = lbls, col=c(\"#66CC00\", \"#CC0000\", \"#CCCCCC\"),\n",
        "   main=\"Pie Chart of sentiment\") \n",
        "#dev.off()"
      ],
      "execution_count": 12,
      "outputs": [
        {
          "output_type": "display_data",
          "data": {
            "image/png": "[encoded data removed]",
            "text/plain": [
              "Plot with title “Pie Chart of sentiment”"
            ]
          },
          "metadata": {
            "tags": [],
            "image/png": {
              "width": 420,
              "height": 420
            }
          }
        }
      ]
    },
    {
      "cell_type": "markdown",
      "metadata": {
        "id": "JEzvBji6wKqC"
      },
      "source": [
        "---\n",
        "\n",
        "#### Creazione del corpus\n",
        "\n",
        "---"
      ]
    },
    {
      "cell_type": "code",
      "metadata": {
        "id": "nxB1JreDy6EL"
      },
      "source": [
        "#Creazione del corpus del training set\n",
        "train_corpus <- corpus(new_train)\n",
        "docvars(train_corpus, \"Textno\") <-\n",
        "  sprintf(\"%02d\", 1:ndoc(train_corpus)) "
      ],
      "execution_count": 13,
      "outputs": []
    },
    {
      "cell_type": "code",
      "metadata": {
        "id": "Fckhz62pL43T",
        "colab": {
          "base_uri": "https://localhost:8080/",
          "height": 293
        },
        "outputId": "71e5fc87-091d-418b-ea4f-a0daa684ea41"
      },
      "source": [
        "#Ottengo statistiche sul corpus appena generato\n",
        "train_corpus.stats <- summary(train_corpus)\n",
        "head(train_corpus.stats, n = 10)"
      ],
      "execution_count": 14,
      "outputs": [
        {
          "output_type": "display_data",
          "data": {
            "text/plain": [
              "   Text   Types Tokens Sentences labels Textno\n",
              "1  text1   7     8     1         1      01    \n",
              "2  text2  33    38     1         2      02    \n",
              "3  text3  16    16     1         2      03    \n",
              "4  text4  41    50     4         2      04    \n",
              "5  text5  39    50     5         0      05    \n",
              "6  text6  36    42     1         2      06    \n",
              "7  text7  28    31     1         2      07    \n",
              "8  text8  14    15     3         1      08    \n",
              "9  text9  43    50     4         2      09    \n",
              "10 text10 39    48     3         0      10    "
            ],
            "text/latex": "A data.frame: 10 × 6\n\\begin{tabular}{r|llllll}\n  & Text & Types & Tokens & Sentences & labels & Textno\\\\\n  & <chr> & <int> & <int> & <int> & <list> & <chr>\\\\\n\\hline\n\t1 & text1  &  7 &  8 & 1 & 1 & 01\\\\\n\t2 & text2  & 33 & 38 & 1 & 2 & 02\\\\\n\t3 & text3  & 16 & 16 & 1 & 2 & 03\\\\\n\t4 & text4  & 41 & 50 & 4 & 2 & 04\\\\\n\t5 & text5  & 39 & 50 & 5 & 0 & 05\\\\\n\t6 & text6  & 36 & 42 & 1 & 2 & 06\\\\\n\t7 & text7  & 28 & 31 & 1 & 2 & 07\\\\\n\t8 & text8  & 14 & 15 & 3 & 1 & 08\\\\\n\t9 & text9  & 43 & 50 & 4 & 2 & 09\\\\\n\t10 & text10 & 39 & 48 & 3 & 0 & 10\\\\\n\\end{tabular}\n",
            "text/markdown": "\nA data.frame: 10 × 6\n\n| <!--/--> | Text &lt;chr&gt; | Types &lt;int&gt; | Tokens &lt;int&gt; | Sentences &lt;int&gt; | labels &lt;list&gt; | Textno &lt;chr&gt; |\n|---|---|---|---|---|---|---|\n| 1 | text1  |  7 |  8 | 1 | 1 | 01 |\n| 2 | text2  | 33 | 38 | 1 | 2 | 02 |\n| 3 | text3  | 16 | 16 | 1 | 2 | 03 |\n| 4 | text4  | 41 | 50 | 4 | 2 | 04 |\n| 5 | text5  | 39 | 50 | 5 | 0 | 05 |\n| 6 | text6  | 36 | 42 | 1 | 2 | 06 |\n| 7 | text7  | 28 | 31 | 1 | 2 | 07 |\n| 8 | text8  | 14 | 15 | 3 | 1 | 08 |\n| 9 | text9  | 43 | 50 | 4 | 2 | 09 |\n| 10 | text10 | 39 | 48 | 3 | 0 | 10 |\n\n",
            "text/html": [
              "<table>\n",
              "<caption>A data.frame: 10 × 6</caption>\n",
              "<thead>\n",
              "\t<tr><th></th><th scope=col>Text</th><th scope=col>Types</th><th scope=col>Tokens</th><th scope=col>Sentences</th><th scope=col>labels</th><th scope=col>Textno</th></tr>\n",
              "\t<tr><th></th><th scope=col>&lt;chr&gt;</th><th scope=col>&lt;int&gt;</th><th scope=col>&lt;int&gt;</th><th scope=col>&lt;int&gt;</th><th scope=col>&lt;list&gt;</th><th scope=col>&lt;chr&gt;</th></tr>\n",
              "</thead>\n",
              "<tbody>\n",
              "\t<tr><th scope=row>1</th><td>text1 </td><td> 7</td><td> 8</td><td>1</td><td>1</td><td>01</td></tr>\n",
              "\t<tr><th scope=row>2</th><td>text2 </td><td>33</td><td>38</td><td>1</td><td>2</td><td>02</td></tr>\n",
              "\t<tr><th scope=row>3</th><td>text3 </td><td>16</td><td>16</td><td>1</td><td>2</td><td>03</td></tr>\n",
              "\t<tr><th scope=row>4</th><td>text4 </td><td>41</td><td>50</td><td>4</td><td>2</td><td>04</td></tr>\n",
              "\t<tr><th scope=row>5</th><td>text5 </td><td>39</td><td>50</td><td>5</td><td>0</td><td>05</td></tr>\n",
              "\t<tr><th scope=row>6</th><td>text6 </td><td>36</td><td>42</td><td>1</td><td>2</td><td>06</td></tr>\n",
              "\t<tr><th scope=row>7</th><td>text7 </td><td>28</td><td>31</td><td>1</td><td>2</td><td>07</td></tr>\n",
              "\t<tr><th scope=row>8</th><td>text8 </td><td>14</td><td>15</td><td>3</td><td>1</td><td>08</td></tr>\n",
              "\t<tr><th scope=row>9</th><td>text9 </td><td>43</td><td>50</td><td>4</td><td>2</td><td>09</td></tr>\n",
              "\t<tr><th scope=row>10</th><td>text10</td><td>39</td><td>48</td><td>3</td><td>0</td><td>10</td></tr>\n",
              "</tbody>\n",
              "</table>\n"
            ]
          },
          "metadata": {
            "tags": []
          }
        }
      ]
    },
    {
      "cell_type": "code",
      "metadata": {
        "id": "61nTKQHw17X2",
        "colab": {
          "base_uri": "https://localhost:8080/",
          "height": 293
        },
        "outputId": "504359eb-ee23-4821-c11e-ce27ae96bb64"
      },
      "source": [
        "#Cerco i termini vicini con una finestra di 4 per il pattern covid19\n",
        "head(kwic(train_corpus, \"covid19\", window=4),10)"
      ],
      "execution_count": 15,
      "outputs": [
        {
          "output_type": "display_data",
          "data": {
            "text/plain": [
              "   docname  from to pre                             keyword\n",
              "1  text630   1    1                                 Covid19\n",
              "2  text723  27   27 cashier shifts during the       COVID19\n",
              "3  text1460 46   46 the door . No                   Covid19\n",
              "4  text1553 13   13 HELP AMERICAN FAMILIES NO       COVID19\n",
              "5  text1984 57   57 wont protect you from           covid19\n",
              "6  text4956 20   20 Oil prices collapse and         Covid19\n",
              "7  text5427 19   19 m not afraid of                 COVID19\n",
              "8  text5725  7    7 that priority testing for       COVID19\n",
              "9  text5851 18   18 AND turnover . With             Covid19\n",
              "10 text6653 16   16 answer consumer questions about COVID19\n",
              "   post                            pattern\n",
              "1  panic . Pascal Montagne         covid19\n",
              "2  pandemic just so the            covid19\n",
              "3  in our city ,                   covid19\n",
              "4  help NO lower drug              covid19\n",
              "5  bt will feed the                covid19\n",
              "6  . #Canada #COVID19 #coronavirus covid19\n",
              "7  but what is scary               covid19\n",
              "8  should be for those             covid19\n",
              "9  causing people 2 work           covid19\n",
              "10 and their swimming pool         covid19"
            ],
            "text/latex": "A kwic: 10 × 7\n\\begin{tabular}{r|lllllll}\n  & docname & from & to & pre & keyword & post & pattern\\\\\n  & <chr> & <int> & <int> & <chr> & <chr> & <chr> & <fct>\\\\\n\\hline\n\t1 & text630  &  1 &  1 &                                 & Covid19 & panic . Pascal Montagne         & covid19\\\\\n\t2 & text723  & 27 & 27 & cashier shifts during the       & COVID19 & pandemic just so the            & covid19\\\\\n\t3 & text1460 & 46 & 46 & the door . No                   & Covid19 & in our city ,                   & covid19\\\\\n\t4 & text1553 & 13 & 13 & HELP AMERICAN FAMILIES NO       & COVID19 & help NO lower drug              & covid19\\\\\n\t5 & text1984 & 57 & 57 & wont protect you from           & covid19 & bt will feed the                & covid19\\\\\n\t6 & text4956 & 20 & 20 & Oil prices collapse and         & Covid19 & . \\#Canada \\#COVID19 \\#coronavirus & covid19\\\\\n\t7 & text5427 & 19 & 19 & m not afraid of                 & COVID19 & but what is scary               & covid19\\\\\n\t8 & text5725 &  7 &  7 & that priority testing for       & COVID19 & should be for those             & covid19\\\\\n\t9 & text5851 & 18 & 18 & AND turnover . With             & Covid19 & causing people 2 work           & covid19\\\\\n\t10 & text6653 & 16 & 16 & answer consumer questions about & COVID19 & and their swimming pool         & covid19\\\\\n\\end{tabular}\n",
            "text/markdown": "\nA kwic: 10 × 7\n\n| <!--/--> | docname &lt;chr&gt; | from &lt;int&gt; | to &lt;int&gt; | pre &lt;chr&gt; | keyword &lt;chr&gt; | post &lt;chr&gt; | pattern &lt;fct&gt; |\n|---|---|---|---|---|---|---|---|\n| 1 | text630  |  1 |  1 | <!----> | Covid19 | panic . Pascal Montagne         | covid19 |\n| 2 | text723  | 27 | 27 | cashier shifts during the       | COVID19 | pandemic just so the            | covid19 |\n| 3 | text1460 | 46 | 46 | the door . No                   | Covid19 | in our city ,                   | covid19 |\n| 4 | text1553 | 13 | 13 | HELP AMERICAN FAMILIES NO       | COVID19 | help NO lower drug              | covid19 |\n| 5 | text1984 | 57 | 57 | wont protect you from           | covid19 | bt will feed the                | covid19 |\n| 6 | text4956 | 20 | 20 | Oil prices collapse and         | Covid19 | . #Canada #COVID19 #coronavirus | covid19 |\n| 7 | text5427 | 19 | 19 | m not afraid of                 | COVID19 | but what is scary               | covid19 |\n| 8 | text5725 |  7 |  7 | that priority testing for       | COVID19 | should be for those             | covid19 |\n| 9 | text5851 | 18 | 18 | AND turnover . With             | Covid19 | causing people 2 work           | covid19 |\n| 10 | text6653 | 16 | 16 | answer consumer questions about | COVID19 | and their swimming pool         | covid19 |\n\n",
            "text/html": [
              "<table>\n",
              "<caption>A kwic: 10 × 7</caption>\n",
              "<thead>\n",
              "\t<tr><th></th><th scope=col>docname</th><th scope=col>from</th><th scope=col>to</th><th scope=col>pre</th><th scope=col>keyword</th><th scope=col>post</th><th scope=col>pattern</th></tr>\n",
              "\t<tr><th></th><th scope=col>&lt;chr&gt;</th><th scope=col>&lt;int&gt;</th><th scope=col>&lt;int&gt;</th><th scope=col>&lt;chr&gt;</th><th scope=col>&lt;chr&gt;</th><th scope=col>&lt;chr&gt;</th><th scope=col>&lt;fct&gt;</th></tr>\n",
              "</thead>\n",
              "<tbody>\n",
              "\t<tr><th scope=row>1</th><td>text630 </td><td> 1</td><td> 1</td><td>                               </td><td>Covid19</td><td>panic . Pascal Montagne        </td><td>covid19</td></tr>\n",
              "\t<tr><th scope=row>2</th><td>text723 </td><td>27</td><td>27</td><td>cashier shifts during the      </td><td>COVID19</td><td>pandemic just so the           </td><td>covid19</td></tr>\n",
              "\t<tr><th scope=row>3</th><td>text1460</td><td>46</td><td>46</td><td>the door . No                  </td><td>Covid19</td><td>in our city ,                  </td><td>covid19</td></tr>\n",
              "\t<tr><th scope=row>4</th><td>text1553</td><td>13</td><td>13</td><td>HELP AMERICAN FAMILIES NO      </td><td>COVID19</td><td>help NO lower drug             </td><td>covid19</td></tr>\n",
              "\t<tr><th scope=row>5</th><td>text1984</td><td>57</td><td>57</td><td>wont protect you from          </td><td>covid19</td><td>bt will feed the               </td><td>covid19</td></tr>\n",
              "\t<tr><th scope=row>6</th><td>text4956</td><td>20</td><td>20</td><td>Oil prices collapse and        </td><td>Covid19</td><td>. #Canada #COVID19 #coronavirus</td><td>covid19</td></tr>\n",
              "\t<tr><th scope=row>7</th><td>text5427</td><td>19</td><td>19</td><td>m not afraid of                </td><td>COVID19</td><td>but what is scary              </td><td>covid19</td></tr>\n",
              "\t<tr><th scope=row>8</th><td>text5725</td><td> 7</td><td> 7</td><td>that priority testing for      </td><td>COVID19</td><td>should be for those            </td><td>covid19</td></tr>\n",
              "\t<tr><th scope=row>9</th><td>text5851</td><td>18</td><td>18</td><td>AND turnover . With            </td><td>Covid19</td><td>causing people 2 work          </td><td>covid19</td></tr>\n",
              "\t<tr><th scope=row>10</th><td>text6653</td><td>16</td><td>16</td><td>answer consumer questions about</td><td>COVID19</td><td>and their swimming pool        </td><td>covid19</td></tr>\n",
              "</tbody>\n",
              "</table>\n"
            ]
          },
          "metadata": {
            "tags": []
          }
        }
      ]
    },
    {
      "cell_type": "code",
      "metadata": {
        "id": "-x89qQwB2LJy",
        "colab": {
          "base_uri": "https://localhost:8080/",
          "height": 293
        },
        "outputId": "fda79aa9-aaa4-44e9-ddf9-1101719dd4cb"
      },
      "source": [
        "#Cerco i termini vicini con una finestra di 4 per il pattern work\n",
        "head(kwic(train_corpus, \"work\", window=4),10)"
      ],
      "execution_count": 16,
      "outputs": [
        {
          "output_type": "display_data",
          "data": {
            "text/plain": [
              "   docname from to pre                           keyword\n",
              "1  text53  36   36 you lose out on               work   \n",
              "2  text63   2    2 My                            work   \n",
              "3  text74  28   28 those individuals unable to   work   \n",
              "4  text86   2    2 I                             work   \n",
              "5  text117  4    4 More idiots at                work   \n",
              "6  text120 24   24 mandating that most employees work   \n",
              "7  text145 12   12 distancing , but you          work   \n",
              "8  text165 15   15 . I happen to                 work   \n",
              "9  text175  4    4 And if you                    work   \n",
              "10 text179 43   43 . A pleasure to               work   \n",
              "   post                                pattern\n",
              "1  cause your kid has                  work   \n",
              "2  is capitalizing on the              work   \n",
              "3  amp are facing economic             work   \n",
              "4  in retail I keep                    work   \n",
              "5  causing unnecessary problems of     work   \n",
              "6  from home . https://t.co/MhUu7mffPT work   \n",
              "7  retail so you can't                 work   \n",
              "8  here . I m                          work   \n",
              "9  at supermarket store you            work   \n",
              "10 with such #DedicatedPeople !        work   "
            ],
            "text/latex": "A kwic: 10 × 7\n\\begin{tabular}{r|lllllll}\n  & docname & from & to & pre & keyword & post & pattern\\\\\n  & <chr> & <int> & <int> & <chr> & <chr> & <chr> & <fct>\\\\\n\\hline\n\t1 & text53  & 36 & 36 & you lose out on               & work & cause your kid has                  & work\\\\\n\t2 & text63  &  2 &  2 & My                            & work & is capitalizing on the              & work\\\\\n\t3 & text74  & 28 & 28 & those individuals unable to   & work & amp are facing economic             & work\\\\\n\t4 & text86  &  2 &  2 & I                             & work & in retail I keep                    & work\\\\\n\t5 & text117 &  4 &  4 & More idiots at                & work & causing unnecessary problems of     & work\\\\\n\t6 & text120 & 24 & 24 & mandating that most employees & work & from home . https://t.co/MhUu7mffPT & work\\\\\n\t7 & text145 & 12 & 12 & distancing , but you          & work & retail so you can't                 & work\\\\\n\t8 & text165 & 15 & 15 & . I happen to                 & work & here . I m                          & work\\\\\n\t9 & text175 &  4 &  4 & And if you                    & work & at supermarket store you            & work\\\\\n\t10 & text179 & 43 & 43 & . A pleasure to               & work & with such \\#DedicatedPeople !        & work\\\\\n\\end{tabular}\n",
            "text/markdown": "\nA kwic: 10 × 7\n\n| <!--/--> | docname &lt;chr&gt; | from &lt;int&gt; | to &lt;int&gt; | pre &lt;chr&gt; | keyword &lt;chr&gt; | post &lt;chr&gt; | pattern &lt;fct&gt; |\n|---|---|---|---|---|---|---|---|\n| 1 | text53  | 36 | 36 | you lose out on               | work | cause your kid has                  | work |\n| 2 | text63  |  2 |  2 | My                            | work | is capitalizing on the              | work |\n| 3 | text74  | 28 | 28 | those individuals unable to   | work | amp are facing economic             | work |\n| 4 | text86  |  2 |  2 | I                             | work | in retail I keep                    | work |\n| 5 | text117 |  4 |  4 | More idiots at                | work | causing unnecessary problems of     | work |\n| 6 | text120 | 24 | 24 | mandating that most employees | work | from home . https://t.co/MhUu7mffPT | work |\n| 7 | text145 | 12 | 12 | distancing , but you          | work | retail so you can't                 | work |\n| 8 | text165 | 15 | 15 | . I happen to                 | work | here . I m                          | work |\n| 9 | text175 |  4 |  4 | And if you                    | work | at supermarket store you            | work |\n| 10 | text179 | 43 | 43 | . A pleasure to               | work | with such #DedicatedPeople !        | work |\n\n",
            "text/html": [
              "<table>\n",
              "<caption>A kwic: 10 × 7</caption>\n",
              "<thead>\n",
              "\t<tr><th></th><th scope=col>docname</th><th scope=col>from</th><th scope=col>to</th><th scope=col>pre</th><th scope=col>keyword</th><th scope=col>post</th><th scope=col>pattern</th></tr>\n",
              "\t<tr><th></th><th scope=col>&lt;chr&gt;</th><th scope=col>&lt;int&gt;</th><th scope=col>&lt;int&gt;</th><th scope=col>&lt;chr&gt;</th><th scope=col>&lt;chr&gt;</th><th scope=col>&lt;chr&gt;</th><th scope=col>&lt;fct&gt;</th></tr>\n",
              "</thead>\n",
              "<tbody>\n",
              "\t<tr><th scope=row>1</th><td>text53 </td><td>36</td><td>36</td><td>you lose out on              </td><td>work</td><td>cause your kid has                 </td><td>work</td></tr>\n",
              "\t<tr><th scope=row>2</th><td>text63 </td><td> 2</td><td> 2</td><td>My                           </td><td>work</td><td>is capitalizing on the             </td><td>work</td></tr>\n",
              "\t<tr><th scope=row>3</th><td>text74 </td><td>28</td><td>28</td><td>those individuals unable to  </td><td>work</td><td>amp are facing economic            </td><td>work</td></tr>\n",
              "\t<tr><th scope=row>4</th><td>text86 </td><td> 2</td><td> 2</td><td>I                            </td><td>work</td><td>in retail I keep                   </td><td>work</td></tr>\n",
              "\t<tr><th scope=row>5</th><td>text117</td><td> 4</td><td> 4</td><td>More idiots at               </td><td>work</td><td>causing unnecessary problems of    </td><td>work</td></tr>\n",
              "\t<tr><th scope=row>6</th><td>text120</td><td>24</td><td>24</td><td>mandating that most employees</td><td>work</td><td>from home . https://t.co/MhUu7mffPT</td><td>work</td></tr>\n",
              "\t<tr><th scope=row>7</th><td>text145</td><td>12</td><td>12</td><td>distancing , but you         </td><td>work</td><td>retail so you can't                </td><td>work</td></tr>\n",
              "\t<tr><th scope=row>8</th><td>text165</td><td>15</td><td>15</td><td>. I happen to                </td><td>work</td><td>here . I m                         </td><td>work</td></tr>\n",
              "\t<tr><th scope=row>9</th><td>text175</td><td> 4</td><td> 4</td><td>And if you                   </td><td>work</td><td>at supermarket store you           </td><td>work</td></tr>\n",
              "\t<tr><th scope=row>10</th><td>text179</td><td>43</td><td>43</td><td>. A pleasure to              </td><td>work</td><td>with such #DedicatedPeople !       </td><td>work</td></tr>\n",
              "</tbody>\n",
              "</table>\n"
            ]
          },
          "metadata": {
            "tags": []
          }
        }
      ]
    },
    {
      "cell_type": "code",
      "metadata": {
        "id": "3E4NyttFxnO2",
        "colab": {
          "base_uri": "https://localhost:8080/",
          "height": 293
        },
        "outputId": "c7b62838-946d-4311-9acc-710b91a87752"
      },
      "source": [
        "#Cerco i termini vicini con una finestra di 4 per il pattern food\n",
        "head(kwic(train_corpus, \"food\", window=4),10)"
      ],
      "execution_count": 17,
      "outputs": [
        {
          "output_type": "display_data",
          "data": {
            "text/plain": [
              "   docname from to pre                      keyword\n",
              "1  text4    2    2 My                       food   \n",
              "2  text4   24   24 THERE WILL BE ENOUGH     FOOD   \n",
              "3  text5   21   21 , but because my         food   \n",
              "4  text6   32   32 , hand sanitizer ,       food   \n",
              "5  text12  13   13 increased demand for all food   \n",
              "6  text14  10   10 to stock up on           food   \n",
              "7  text20  12   12 consider donating to a   food   \n",
              "8  text21  26   26 new guilde lines on      food   \n",
              "9  text25   9    9 being done to ensure     food   \n",
              "10 text27   9    9 demand and a potential   food   \n",
              "   post                         pattern\n",
              "1  stock is not the             food   \n",
              "2  FOR EVERYONE if you          food   \n",
              "3  stock is litteraly empty     food   \n",
              "4  , toilet paper and           food   \n",
              "5  products . The wait          food   \n",
              "6  , I'll just have             food   \n",
              "7  bank or a nonprofit          food   \n",
              "8  safty the chinese goverment  food   \n",
              "9  and other essential products food   \n",
              "10 shortage , The Hunger        food   "
            ],
            "text/latex": "A kwic: 10 × 7\n\\begin{tabular}{r|lllllll}\n  & docname & from & to & pre & keyword & post & pattern\\\\\n  & <chr> & <int> & <int> & <chr> & <chr> & <chr> & <fct>\\\\\n\\hline\n\t1 & text4  &  2 &  2 & My                       & food & stock is not the             & food\\\\\n\t2 & text4  & 24 & 24 & THERE WILL BE ENOUGH     & FOOD & FOR EVERYONE if you          & food\\\\\n\t3 & text5  & 21 & 21 & , but because my         & food & stock is litteraly empty     & food\\\\\n\t4 & text6  & 32 & 32 & , hand sanitizer ,       & food & , toilet paper and           & food\\\\\n\t5 & text12 & 13 & 13 & increased demand for all & food & products . The wait          & food\\\\\n\t6 & text14 & 10 & 10 & to stock up on           & food & , I'll just have             & food\\\\\n\t7 & text20 & 12 & 12 & consider donating to a   & food & bank or a nonprofit          & food\\\\\n\t8 & text21 & 26 & 26 & new guilde lines on      & food & safty the chinese goverment  & food\\\\\n\t9 & text25 &  9 &  9 & being done to ensure     & food & and other essential products & food\\\\\n\t10 & text27 &  9 &  9 & demand and a potential   & food & shortage , The Hunger        & food\\\\\n\\end{tabular}\n",
            "text/markdown": "\nA kwic: 10 × 7\n\n| <!--/--> | docname &lt;chr&gt; | from &lt;int&gt; | to &lt;int&gt; | pre &lt;chr&gt; | keyword &lt;chr&gt; | post &lt;chr&gt; | pattern &lt;fct&gt; |\n|---|---|---|---|---|---|---|---|\n| 1 | text4  |  2 |  2 | My                       | food | stock is not the             | food |\n| 2 | text4  | 24 | 24 | THERE WILL BE ENOUGH     | FOOD | FOR EVERYONE if you          | food |\n| 3 | text5  | 21 | 21 | , but because my         | food | stock is litteraly empty     | food |\n| 4 | text6  | 32 | 32 | , hand sanitizer ,       | food | , toilet paper and           | food |\n| 5 | text12 | 13 | 13 | increased demand for all | food | products . The wait          | food |\n| 6 | text14 | 10 | 10 | to stock up on           | food | , I'll just have             | food |\n| 7 | text20 | 12 | 12 | consider donating to a   | food | bank or a nonprofit          | food |\n| 8 | text21 | 26 | 26 | new guilde lines on      | food | safty the chinese goverment  | food |\n| 9 | text25 |  9 |  9 | being done to ensure     | food | and other essential products | food |\n| 10 | text27 |  9 |  9 | demand and a potential   | food | shortage , The Hunger        | food |\n\n",
            "text/html": [
              "<table>\n",
              "<caption>A kwic: 10 × 7</caption>\n",
              "<thead>\n",
              "\t<tr><th></th><th scope=col>docname</th><th scope=col>from</th><th scope=col>to</th><th scope=col>pre</th><th scope=col>keyword</th><th scope=col>post</th><th scope=col>pattern</th></tr>\n",
              "\t<tr><th></th><th scope=col>&lt;chr&gt;</th><th scope=col>&lt;int&gt;</th><th scope=col>&lt;int&gt;</th><th scope=col>&lt;chr&gt;</th><th scope=col>&lt;chr&gt;</th><th scope=col>&lt;chr&gt;</th><th scope=col>&lt;fct&gt;</th></tr>\n",
              "</thead>\n",
              "<tbody>\n",
              "\t<tr><th scope=row>1</th><td>text4 </td><td> 2</td><td> 2</td><td>My                      </td><td>food</td><td>stock is not the            </td><td>food</td></tr>\n",
              "\t<tr><th scope=row>2</th><td>text4 </td><td>24</td><td>24</td><td>THERE WILL BE ENOUGH    </td><td>FOOD</td><td>FOR EVERYONE if you         </td><td>food</td></tr>\n",
              "\t<tr><th scope=row>3</th><td>text5 </td><td>21</td><td>21</td><td>, but because my        </td><td>food</td><td>stock is litteraly empty    </td><td>food</td></tr>\n",
              "\t<tr><th scope=row>4</th><td>text6 </td><td>32</td><td>32</td><td>, hand sanitizer ,      </td><td>food</td><td>, toilet paper and          </td><td>food</td></tr>\n",
              "\t<tr><th scope=row>5</th><td>text12</td><td>13</td><td>13</td><td>increased demand for all</td><td>food</td><td>products . The wait         </td><td>food</td></tr>\n",
              "\t<tr><th scope=row>6</th><td>text14</td><td>10</td><td>10</td><td>to stock up on          </td><td>food</td><td>, I'll just have            </td><td>food</td></tr>\n",
              "\t<tr><th scope=row>7</th><td>text20</td><td>12</td><td>12</td><td>consider donating to a  </td><td>food</td><td>bank or a nonprofit         </td><td>food</td></tr>\n",
              "\t<tr><th scope=row>8</th><td>text21</td><td>26</td><td>26</td><td>new guilde lines on     </td><td>food</td><td>safty the chinese goverment </td><td>food</td></tr>\n",
              "\t<tr><th scope=row>9</th><td>text25</td><td> 9</td><td> 9</td><td>being done to ensure    </td><td>food</td><td>and other essential products</td><td>food</td></tr>\n",
              "\t<tr><th scope=row>10</th><td>text27</td><td> 9</td><td> 9</td><td>demand and a potential  </td><td>food</td><td>shortage , The Hunger       </td><td>food</td></tr>\n",
              "</tbody>\n",
              "</table>\n"
            ]
          },
          "metadata": {
            "tags": []
          }
        }
      ]
    },
    {
      "cell_type": "markdown",
      "metadata": {
        "id": "yZ2dEmnsOkqa"
      },
      "source": [
        "---\n",
        "\n",
        "#### Text-preprocessing\n",
        "\n",
        "---"
      ]
    },
    {
      "cell_type": "code",
      "metadata": {
        "id": "_5pKUaZr0rud",
        "colab": {
          "base_uri": "https://localhost:8080/",
          "height": 173
        },
        "outputId": "3c4502a2-c96a-44ec-a867-3ab7f57e7d87"
      },
      "source": [
        "#Mostro il corpus, notiamo menzioni, simboli \\n, link, hashtag\n",
        "head(train_corpus,5)"
      ],
      "execution_count": 18,
      "outputs": [
        {
          "output_type": "display_data",
          "data": {
            "text/plain": [
              "Corpus consisting of 5 documents and 2 docvars.\n",
              "text1 :\n",
              "\"@MeNyrbie @Phil_Gahan @Chrisitv https://t.co/iFz9FAn2Pa and ...\"\n",
              "\n",
              "text2 :\n",
              "\"advice Talk to your neighbours family to exchange phone numb...\"\n",
              "\n",
              "text3 :\n",
              "\"Coronavirus Australia: Woolworths to give elderly, disabled ...\"\n",
              "\n",
              "text4 :\n",
              "\"My food stock is not the only one which is empty... PLEASE, ...\"\n",
              "\n",
              "text5 :\n",
              "\"Me, ready to go at supermarket during the #COVID19 outbreak....\"\n"
            ],
            "text/latex": "\\begin{description*}\n\\item[text1] '@MeNyrbie @Phil\\_Gahan @Chrisitv https://t.co/iFz9FAn2Pa and https://t.co/xX6ghGFzCC and https://t.co/I2NlzdxNo8'\n\\item[text2] 'advice Talk to your neighbours family to exchange phone numbers create contact list with phone numbers of neighbours schools employer chemist GP set up online shopping accounts if poss adequate supplies of regular meds but not over order'\n\\item[text3] 'Coronavirus Australia: Woolworths to give elderly, disabled dedicated shopping hours amid COVID-19 outbreak https://t.co/bInCA9Vp8P'\n\\item[text4] 'My food stock is not the only one which is empty...\\textbackslash{}n\\textbackslash{}n\\textbackslash{}n\\textbackslash{}n\\textbackslash{}n\\textbackslash{}nPLEASE, don\\textbackslash{}'t panic, THERE WILL BE ENOUGH FOOD FOR EVERYONE if you do not take more than you need. \\textbackslash{}n\\textbackslash{}n\\textbackslash{}nStay calm, stay safe.\\textbackslash{}n\\textbackslash{}n\\textbackslash{}n\\textbackslash{}n\\textbackslash{}n\\textbackslash{}n\\#COVID19france \\#COVID\\_19 \\#COVID19 \\#coronavirus \\#confinement \\#Confinementotal \\#ConfinementGeneral https://t.co/zrlG0Z520j'\n\\item[text5] 'Me, ready to go at supermarket during the \\#COVID19 outbreak.\\textbackslash{}n\\textbackslash{}n\\textbackslash{}n\\textbackslash{}n\\textbackslash{}n\\textbackslash{}nNot because I\\textbackslash{}'m paranoid, but because my food stock is litteraly empty. The \\#coronavirus is a serious thing, but please, don\\textbackslash{}'t panic. It causes shortage...\\textbackslash{}n\\textbackslash{}n\\textbackslash{}n\\textbackslash{}n\\textbackslash{}n\\textbackslash{}n\\#CoronavirusFrance \\#restezchezvous \\#StayAtHome \\#confinement https://t.co/usmuaLq72n'\n\\end{description*}\n",
            "text/markdown": "text1\n:   '@MeNyrbie @Phil_Gahan @Chrisitv https://t.co/iFz9FAn2Pa and https://t.co/xX6ghGFzCC and https://t.co/I2NlzdxNo8'text2\n:   'advice Talk to your neighbours family to exchange phone numbers create contact list with phone numbers of neighbours schools employer chemist GP set up online shopping accounts if poss adequate supplies of regular meds but not over order'text3\n:   'Coronavirus Australia: Woolworths to give elderly, disabled dedicated shopping hours amid COVID-19 outbreak https://t.co/bInCA9Vp8P'text4\n:   'My food stock is not the only one which is empty...\\n\\n\\n\\n\\n\\nPLEASE, don\\'t panic, THERE WILL BE ENOUGH FOOD FOR EVERYONE if you do not take more than you need. \\n\\n\\nStay calm, stay safe.\\n\\n\\n\\n\\n\\n#COVID19france #COVID_19 #COVID19 #coronavirus #confinement #Confinementotal #ConfinementGeneral https://t.co/zrlG0Z520j'text5\n:   'Me, ready to go at supermarket during the #COVID19 outbreak.\\n\\n\\n\\n\\n\\nNot because I\\'m paranoid, but because my food stock is litteraly empty. The #coronavirus is a serious thing, but please, don\\'t panic. It causes shortage...\\n\\n\\n\\n\\n\\n#CoronavirusFrance #restezchezvous #StayAtHome #confinement https://t.co/usmuaLq72n'\n\n",
            "text/html": [
              "<style>\n",
              ".dl-inline {width: auto; margin:0; padding: 0}\n",
              ".dl-inline>dt, .dl-inline>dd {float: none; width: auto; display: inline-block}\n",
              ".dl-inline>dt::after {content: \":\\0020\"; padding-right: .5ex}\n",
              ".dl-inline>dt:not(:first-of-type) {padding-left: .5ex}\n",
              "</style><dl class=dl-inline><dt>text1</dt><dd>'@MeNyrbie @Phil_Gahan @Chrisitv https://t.co/iFz9FAn2Pa and https://t.co/xX6ghGFzCC and https://t.co/I2NlzdxNo8'</dd><dt>text2</dt><dd>'advice Talk to your neighbours family to exchange phone numbers create contact list with phone numbers of neighbours schools employer chemist GP set up online shopping accounts if poss adequate supplies of regular meds but not over order'</dd><dt>text3</dt><dd>'Coronavirus Australia: Woolworths to give elderly, disabled dedicated shopping hours amid COVID-19 outbreak https://t.co/bInCA9Vp8P'</dd><dt>text4</dt><dd>'My food stock is not the only one which is empty...\\n\\n\\n\\n\\n\\nPLEASE, don\\'t panic, THERE WILL BE ENOUGH FOOD FOR EVERYONE if you do not take more than you need. \\n\\n\\nStay calm, stay safe.\\n\\n\\n\\n\\n\\n#COVID19france #COVID_19 #COVID19 #coronavirus #confinement #Confinementotal #ConfinementGeneral https://t.co/zrlG0Z520j'</dd><dt>text5</dt><dd>'Me, ready to go at supermarket during the #COVID19 outbreak.\\n\\n\\n\\n\\n\\nNot because I\\'m paranoid, but because my food stock is litteraly empty. The #coronavirus is a serious thing, but please, don\\'t panic. It causes shortage...\\n\\n\\n\\n\\n\\n#CoronavirusFrance #restezchezvous #StayAtHome #confinement https://t.co/usmuaLq72n'</dd></dl>\n"
            ]
          },
          "metadata": {
            "tags": []
          }
        }
      ]
    },
    {
      "cell_type": "code",
      "metadata": {
        "id": "KNo1VkzEMSKT"
      },
      "source": [
        "#Generazione dei token dei train partendo dal corpus.\n",
        "#Si rimuovono numeri, punteggiature, simboli, url e si dividono frasi con \"-\" centrale\n",
        "train_token <-\n",
        "  tokens(\n",
        "    train_corpus,\n",
        "    remove_numbers = TRUE,\n",
        "    remove_punct = TRUE,\n",
        "    remove_symbols = TRUE,\n",
        "    remove_url = TRUE,\n",
        "    split_hyphens = TRUE,\n",
        "    include_docvars = TRUE\n",
        "  )"
      ],
      "execution_count": 19,
      "outputs": []
    },
    {
      "cell_type": "code",
      "metadata": {
        "id": "EYzGGWbMyzVm",
        "colab": {
          "base_uri": "https://localhost:8080/",
          "height": 645
        },
        "outputId": "e772874d-64bd-40ca-8e8a-ee2e1d6bcf94"
      },
      "source": [
        "#Si mostra il risultato\n",
        "head(train_token,20)"
      ],
      "execution_count": 20,
      "outputs": [
        {
          "output_type": "display_data",
          "data": {
            "text/plain": [
              "Tokens consisting of 20 documents and 2 docvars.\n",
              "text1 :\n",
              "[1] \"@MeNyrbie\"   \"@Phil_Gahan\" \"@Chrisitv\"   \"and\"         \"and\"        \n",
              "\n",
              "text2 :\n",
              " [1] \"advice\"     \"Talk\"       \"to\"         \"your\"       \"neighbours\"\n",
              " [6] \"family\"     \"to\"         \"exchange\"   \"phone\"      \"numbers\"   \n",
              "[11] \"create\"     \"contact\"   \n",
              "[ ... and 26 more ]\n",
              "\n",
              "text3 :\n",
              " [1] \"Coronavirus\" \"Australia\"   \"Woolworths\"  \"to\"          \"give\"       \n",
              " [6] \"elderly\"     \"disabled\"    \"dedicated\"   \"shopping\"    \"hours\"      \n",
              "[11] \"amid\"        \"COVID\"      \n",
              "[ ... and 1 more ]\n",
              "\n",
              "text4 :\n",
              " [1] \"My\"     \"food\"   \"stock\"  \"is\"     \"not\"    \"the\"    \"only\"   \"one\"   \n",
              " [9] \"which\"  \"is\"     \"empty\"  \"PLEASE\"\n",
              "[ ... and 29 more ]\n",
              "\n",
              "text5 :\n",
              " [1] \"Me\"          \"ready\"       \"to\"          \"go\"          \"at\"         \n",
              " [6] \"supermarket\" \"during\"      \"the\"         \"#COVID19\"    \"outbreak\"   \n",
              "[11] \"Not\"         \"because\"    \n",
              "[ ... and 27 more ]\n",
              "\n",
              "text6 :\n",
              " [1] \"As\"        \"news\"      \"of\"        \"the\"       \"region\"    \"s\"        \n",
              " [7] \"first\"     \"confirmed\" \"COVID\"     \"case\"      \"came\"      \"out\"      \n",
              "[ ... and 24 more ]\n",
              "\n",
              "[ reached max_ndoc ... 14 more documents ]"
            ]
          },
          "metadata": {
            "tags": []
          }
        }
      ]
    },
    {
      "cell_type": "code",
      "metadata": {
        "id": "4dJczHD-Muxi",
        "colab": {
          "base_uri": "https://localhost:8080/"
        },
        "outputId": "69de6975-6b85-4edf-f762-b87c1f93953b"
      },
      "source": [
        "#Ulteriore pulizia per #,@,&,https()\n",
        "token_ungd <- tokens_select(\n",
        "  train_token,\n",
        "  c(\"(http|https)://([^\\\\s]+)\", \"<.*?>\",\"#\\\\w+\",\"@\\\\w+\",\"\\\\s+\",\"&\\\\w+\"),\n",
        "  selection = \"remove\",\n",
        "  valuetype = \"regex\",\n",
        "  verbose = TRUE\n",
        ")\n",
        "#Rimozione delle stop word in base al linguaggio inglese.\n",
        "toks_nostop <- tokens_select(token_ungd, pattern = stopwords(\"en\"), selection = \"remove\")\n",
        "print(toks_nostop)"
      ],
      "execution_count": 21,
      "outputs": [
        {
          "output_type": "stream",
          "text": [
            "removed 28,712 features\n",
            "\n",
            "\n"
          ],
          "name": "stderr"
        },
        {
          "output_type": "stream",
          "text": [
            "Tokens consisting of 41,157 documents and 2 docvars.\n",
            "text1 :\n",
            "character(0)\n",
            "\n",
            "text2 :\n",
            " [1] \"advice\"     \"Talk\"       \"neighbours\" \"family\"     \"exchange\"  \n",
            " [6] \"phone\"      \"numbers\"    \"create\"     \"contact\"    \"list\"      \n",
            "[11] \"phone\"      \"numbers\"   \n",
            "[ ... and 15 more ]\n",
            "\n",
            "text3 :\n",
            " [1] \"Coronavirus\" \"Australia\"   \"Woolworths\"  \"give\"        \"elderly\"    \n",
            " [6] \"disabled\"    \"dedicated\"   \"shopping\"    \"hours\"       \"amid\"       \n",
            "[11] \"COVID\"       \"outbreak\"   \n",
            "\n",
            "text4 :\n",
            " [1] \"food\"     \"stock\"    \"one\"      \"empty\"    \"PLEASE\"   \"panic\"   \n",
            " [7] \"ENOUGH\"   \"FOOD\"     \"EVERYONE\" \"take\"     \"need\"     \"Stay\"    \n",
            "[ ... and 3 more ]\n",
            "\n",
            "text5 :\n",
            " [1] \"ready\"       \"go\"          \"supermarket\" \"outbreak\"    \"paranoid\"   \n",
            " [6] \"food\"        \"stock\"       \"litteraly\"   \"empty\"       \"serious\"    \n",
            "[11] \"thing\"       \"please\"     \n",
            "[ ... and 3 more ]\n",
            "\n",
            "text6 :\n",
            " [1] \"news\"      \"region\"    \"s\"         \"first\"     \"confirmed\" \"COVID\"    \n",
            " [7] \"case\"      \"came\"      \"Sullivan\"  \"County\"    \"last\"      \"week\"     \n",
            "[ ... and 14 more ]\n",
            "\n",
            "[ reached max_ndoc ... 41,151 more documents ]\n"
          ],
          "name": "stdout"
        }
      ]
    },
    {
      "cell_type": "code",
      "metadata": {
        "id": "y_43FiAaeT4h"
      },
      "source": [
        "#Free memory\n",
        "rm(train_corpus)"
      ],
      "execution_count": 22,
      "outputs": []
    },
    {
      "cell_type": "markdown",
      "metadata": {
        "id": "ybCq2Bo0OZjF"
      },
      "source": [
        "---\n",
        "\n",
        "#### Creazione matrice documenti-termini e applicazione TF-IDF\n",
        "\n",
        "---"
      ]
    },
    {
      "cell_type": "code",
      "metadata": {
        "id": "FAl-8lOm21D1",
        "colab": {
          "base_uri": "https://localhost:8080/",
          "height": 360
        },
        "outputId": "2b8784de-844d-4542-891f-c9461c586633"
      },
      "source": [
        "#Creazione matrice termini-documenti portando tutti i token in forma minuscola.\n",
        "dfm_train <- dfm(toks_nostop,\n",
        "                       tolower = TRUE,\n",
        "                       stem = FALSE)\n",
        "# keep only words occurring >= 10 times and in >= 2 documents\n",
        "dfm_train_tfidf.trim <- dfm_trim(dfm_train, min_termfreq = 10, min_docfreq = 2)\n",
        "#Pesatura matrice con TF-IDF\n",
        "dfm_train_tfidf <- dfm_tfidf(dfm_train_tfidf.trim)\n",
        "dfm_train_tfidf"
      ],
      "execution_count": 23,
      "outputs": [
        {
          "output_type": "display_data",
          "data": {
            "text/plain": [
              "Document-feature matrix of: 41,157 documents, 6,171 features (99.8% sparse) and 2 docvars.\n",
              "       features\n",
              "docs      advice     talk neighbours   family exchange    phone  numbers\n",
              "  text1 0        0           0       0        0        0        0       \n",
              "  text2 2.196142 2.441257    6.06932 1.880444 3.070376 4.894253 5.211687\n",
              "  text3 0        0           0       0        0        0        0       \n",
              "  text4 0        0           0       0        0        0        0       \n",
              "  text5 0        0           0       0        0        0        0       \n",
              "  text6 0        0           0       0        0        0        0       \n",
              "       features\n",
              "docs      create  contact     list\n",
              "  text1 0        0        0       \n",
              "  text2 2.535262 2.110653 2.067901\n",
              "  text3 0        0        0       \n",
              "  text4 0        0        0       \n",
              "  text5 0        0        0       \n",
              "  text6 0        0        0       \n",
              "[ reached max_ndoc ... 41,151 more documents, reached max_nfeat ... 6,161 more features ]"
            ]
          },
          "metadata": {
            "tags": []
          }
        }
      ]
    },
    {
      "cell_type": "code",
      "metadata": {
        "id": "NgY4VvvmalNo"
      },
      "source": [
        "#Free memory\n",
        "rm(new_train)"
      ],
      "execution_count": 24,
      "outputs": []
    },
    {
      "cell_type": "markdown",
      "metadata": {
        "id": "tw6AnHoXOVdA"
      },
      "source": [
        "---\n",
        "\n",
        "#### Generazione wordcloud\n",
        "\n",
        "---"
      ]
    },
    {
      "cell_type": "code",
      "metadata": {
        "id": "PIro3XdwGnq1"
      },
      "source": [
        "#jpeg(\"wordcloud.jpeg\")\n",
        "set.seed(100)\n",
        "textplot_wordcloud(dfm_train_tfidf.trim, min_count = 100, random_order = FALSE,\n",
        "                   rotation = .25, \n",
        "                   color = RColorBrewer::brewer.pal(8,\"Dark2\"))\n",
        "#dev.off()"
      ],
      "execution_count": null,
      "outputs": []
    },
    {
      "cell_type": "markdown",
      "metadata": {
        "id": "uQU0_ItUOahx"
      },
      "source": [
        "---\n",
        "\n",
        "## **Classificazione**\n",
        "\n",
        "---"
      ]
    },
    {
      "cell_type": "markdown",
      "metadata": {
        "id": "u_DshGAtwqPM"
      },
      "source": [
        "---\n",
        "\n",
        "##### Funzione per generare la confusion matrix dato un modello e i dati di train e test.\n",
        "\n",
        "---"
      ]
    },
    {
      "cell_type": "code",
      "metadata": {
        "id": "SCBibG1tvBP3"
      },
      "source": [
        "#Dato un modello, train e test set calcola la predizione.\n",
        "#Si ritorna la matrice di confusione con classi predette e quelle attuali.\n",
        "computeConfusionMatrix <- function(test, train, model) {\n",
        "  dfmat_matched <- dfm_match(test, features = featnames(train))\n",
        "  actual_class <- unlist(dfmat_matched$labels)\n",
        "  predicted_class <- predict(model, newdata = dfmat_matched, force = TRUE)\n",
        "  tab_class <- table(actual_class,predicted_class)\n",
        "  confusionMatrix <- confusionMatrix(tab_class, mode = \"everything\")\n",
        "  return (confusionMatrix)\n",
        "}"
      ],
      "execution_count": 28,
      "outputs": []
    },
    {
      "cell_type": "markdown",
      "metadata": {
        "id": "VS2nAOpVxEO5"
      },
      "source": [
        "---\n",
        "\n",
        "##### Costruzione della matrice termini-document e applicazione TF-IDF per il test set.\n",
        "\n",
        "---"
      ]
    },
    {
      "cell_type": "code",
      "metadata": {
        "colab": {
          "base_uri": "https://localhost:8080/",
          "height": 161
        },
        "id": "zgchb-QiBf9F",
        "outputId": "05d13ada-47be-476d-b53d-44bfd9794e68"
      },
      "source": [
        "#Conto quanti record ci sono per ogni Sentiment distinto nel test set\n",
        "uniqueSentiment_test = count(new_test,labels)\n",
        "uniqueSentiment_test"
      ],
      "execution_count": 41,
      "outputs": [
        {
          "output_type": "display_data",
          "data": {
            "text/plain": [
              "  labels n   \n",
              "1 0      1633\n",
              "2 2      1546\n",
              "3 1       619"
            ],
            "text/latex": "A data.frame: 3 × 2\n\\begin{tabular}{r|ll}\n  & labels & n\\\\\n  & <list> & <int>\\\\\n\\hline\n\t1 & 0 & 1633\\\\\n\t2 & 2 & 1546\\\\\n\t3 & 1 &  619\\\\\n\\end{tabular}\n",
            "text/markdown": "\nA data.frame: 3 × 2\n\n| <!--/--> | labels &lt;list&gt; | n &lt;int&gt; |\n|---|---|---|\n| 1 | 0 | 1633 |\n| 2 | 2 | 1546 |\n| 3 | 1 |  619 |\n\n",
            "text/html": [
              "<table>\n",
              "<caption>A data.frame: 3 × 2</caption>\n",
              "<thead>\n",
              "\t<tr><th></th><th scope=col>labels</th><th scope=col>n</th></tr>\n",
              "\t<tr><th></th><th scope=col>&lt;list&gt;</th><th scope=col>&lt;int&gt;</th></tr>\n",
              "</thead>\n",
              "<tbody>\n",
              "\t<tr><th scope=row>1</th><td>0</td><td>1633</td></tr>\n",
              "\t<tr><th scope=row>2</th><td>2</td><td>1546</td></tr>\n",
              "\t<tr><th scope=row>3</th><td>1</td><td> 619</td></tr>\n",
              "</tbody>\n",
              "</table>\n"
            ]
          },
          "metadata": {
            "tags": []
          }
        }
      ]
    },
    {
      "cell_type": "code",
      "metadata": {
        "id": "foHjtb3LxEnu"
      },
      "source": [
        "#Creazione del corpus, generazione dei token e pulizia come per il training set.\n",
        "test_corpus <- corpus(new_test)\n",
        "token <-\n",
        "  tokens(\n",
        "    test_corpus,\n",
        "    remove_numbers = TRUE,\n",
        "    remove_punct = TRUE,\n",
        "    remove_symbols = TRUE,\n",
        "    remove_url = TRUE,\n",
        "    split_hyphens = TRUE,\n",
        "    include_docvars = TRUE\n",
        "  )\n",
        "\n",
        "token_ungd <- tokens_select(\n",
        "  token,\n",
        "  c(\"(http|https)://([^\\\\s]+)\", \"<.*?>\",\"#\\\\w+\",\"@\\\\w+\",\"\\\\s+\",\"&\\\\w+\"),\n",
        "  selection = \"remove\",\n",
        "  valuetype = \"regex\",\n",
        "  verbose = TRUE\n",
        ")\n",
        "toks_nostop <- tokens_select(token_ungd, pattern = stopwords(\"en\"), selection = \"remove\")\n",
        "dfm_test <- dfm(token_ungd,\n",
        "                       tolower = TRUE,\n",
        "                       stem = FALSE)\n",
        "dfm_test_tfidf.trim <- dfm_trim(dfm_test, min_termfreq = 10, min_docfreq = 2)\n",
        "dfm_test_tfidf <- dfm_tfidf(dfm_test_tfidf.trim)\n",
        "dfm_test_tfidf"
      ],
      "execution_count": null,
      "outputs": []
    },
    {
      "cell_type": "code",
      "metadata": {
        "id": "Qwi5p2O6xY4F"
      },
      "source": [
        "#Free memory\n",
        "rm(new_test)\n",
        "rm(test_corpus)"
      ],
      "execution_count": 30,
      "outputs": []
    },
    {
      "cell_type": "markdown",
      "metadata": {
        "id": "R5PCbequTKko"
      },
      "source": [
        "\n",
        "---\n",
        "\n",
        "## **Naive Bayes Multinomial**\n",
        "\n",
        "---"
      ]
    },
    {
      "cell_type": "code",
      "metadata": {
        "id": "sWa4ir3wYQQE"
      },
      "source": [
        "nb_mult <- textmodel_nb(dfm_train_tfidf, unlist(docvars(dfm_train_tfidf, \"labels\")), distribution = c(\"multinomial\"))"
      ],
      "execution_count": null,
      "outputs": []
    },
    {
      "cell_type": "code",
      "metadata": {
        "colab": {
          "base_uri": "https://localhost:8080/",
          "height": 645
        },
        "id": "H1IOVFIavWaE",
        "outputId": "7fe0199e-a007-4a7e-e4cf-f749b5c46c77"
      },
      "source": [
        "computeConfusionMatrix(dfm_test_tfidf,dfm_train_tfidf, nb_mult)"
      ],
      "execution_count": 34,
      "outputs": [
        {
          "output_type": "display_data",
          "data": {
            "text/plain": [
              "Confusion Matrix and Statistics\n",
              "\n",
              "               actual_class\n",
              "predicted_class    0    1    2\n",
              "              0 1101  136  267\n",
              "              1  235  388  188\n",
              "              2  297   95 1091\n",
              "\n",
              "Overall Statistics\n",
              "                                          \n",
              "               Accuracy : 0.6793          \n",
              "                 95% CI : (0.6642, 0.6941)\n",
              "    No Information Rate : 0.43            \n",
              "    P-Value [Acc > NIR] : < 2.2e-16       \n",
              "                                          \n",
              "                  Kappa : 0.4958          \n",
              "                                          \n",
              " Mcnemar's Test P-Value : 1.185e-12       \n",
              "\n",
              "Statistics by Class:\n",
              "\n",
              "                     Class: 0 Class: 1 Class: 2\n",
              "Sensitivity            0.6742   0.6268   0.7057\n",
              "Specificity            0.8139   0.8669   0.8259\n",
              "Pos Pred Value         0.7320   0.4784   0.7357\n",
              "Neg Pred Value         0.7681   0.9227   0.8035\n",
              "Precision              0.7320   0.4784   0.7357\n",
              "Recall                 0.6742   0.6268   0.7057\n",
              "F1                     0.7019   0.5427   0.7204\n",
              "Prevalence             0.4300   0.1630   0.4071\n",
              "Detection Rate         0.2899   0.1022   0.2873\n",
              "Detection Prevalence   0.3960   0.2135   0.3905\n",
              "Balanced Accuracy      0.7440   0.7469   0.7658"
            ]
          },
          "metadata": {
            "tags": []
          }
        }
      ]
    },
    {
      "cell_type": "markdown",
      "metadata": {
        "id": "Btfhj7FLxj5i"
      },
      "source": [
        "---\n",
        "\n",
        "## **Naive Bayes Bernoulli**\n",
        "\n",
        "---"
      ]
    },
    {
      "cell_type": "code",
      "metadata": {
        "id": "DV3lTZssORhn"
      },
      "source": [
        "nb_bern <- textmodel_nb(dfm_train_tfidf, unlist(docvars(dfm_train_tfidf, \"labels\")), distribution = c(\"Bernoulli\"))"
      ],
      "execution_count": 42,
      "outputs": []
    },
    {
      "cell_type": "code",
      "metadata": {
        "id": "8iV1DAKKOXl4",
        "colab": {
          "base_uri": "https://localhost:8080/",
          "height": 645
        },
        "outputId": "2a2be338-827e-499e-ebe3-b81aeb1bfa84"
      },
      "source": [
        "computeConfusionMatrix(dfm_test_tfidf,dfm_train_tfidf, nb_bern)"
      ],
      "execution_count": 43,
      "outputs": [
        {
          "output_type": "display_data",
          "data": {
            "text/plain": [
              "Confusion Matrix and Statistics\n",
              "\n",
              "               actual_class\n",
              "predicted_class    0    1    2\n",
              "              0 1016   77  267\n",
              "              1  391  495  355\n",
              "              2  226   47  924\n",
              "\n",
              "Overall Statistics\n",
              "                                          \n",
              "               Accuracy : 0.6411          \n",
              "                 95% CI : (0.6256, 0.6564)\n",
              "    No Information Rate : 0.43            \n",
              "    P-Value [Acc > NIR] : < 2.2e-16       \n",
              "                                          \n",
              "                  Kappa : 0.4599          \n",
              "                                          \n",
              " Mcnemar's Test P-Value : < 2.2e-16       \n",
              "\n",
              "Statistics by Class:\n",
              "\n",
              "                     Class: 0 Class: 1 Class: 2\n",
              "Sensitivity            0.6222   0.7997   0.5977\n",
              "Specificity            0.8411   0.7653   0.8788\n",
              "Pos Pred Value         0.7471   0.3989   0.7719\n",
              "Neg Pred Value         0.7469   0.9515   0.7609\n",
              "Precision              0.7471   0.3989   0.7719\n",
              "Recall                 0.6222   0.7997   0.5977\n",
              "F1                     0.6789   0.5323   0.6737\n",
              "Prevalence             0.4300   0.1630   0.4071\n",
              "Detection Rate         0.2675   0.1303   0.2433\n",
              "Detection Prevalence   0.3581   0.3268   0.3152\n",
              "Balanced Accuracy      0.7316   0.7825   0.7382"
            ]
          },
          "metadata": {
            "tags": []
          }
        }
      ]
    },
    {
      "cell_type": "markdown",
      "metadata": {
        "id": "DWl8G9aL27Gv"
      },
      "source": [
        "\n",
        "---\n",
        "\n",
        "## **Linear SVM**\n",
        "\n",
        "---"
      ]
    },
    {
      "cell_type": "code",
      "metadata": {
        "id": "87v3XvyJ0sh3"
      },
      "source": [
        "svm <- textmodel_svm(dfm_train_tfidf, y = quanteda::docvars(dfm_train_tfidf, \"labels\"))"
      ],
      "execution_count": 44,
      "outputs": []
    },
    {
      "cell_type": "code",
      "metadata": {
        "id": "12SZvthH-nPc",
        "colab": {
          "base_uri": "https://localhost:8080/",
          "height": 645
        },
        "outputId": "df3c689e-5328-4132-f853-585ecd54dcca"
      },
      "source": [
        "computeConfusionMatrix(dfm_test_tfidf,dfm_train_tfidf, svm)"
      ],
      "execution_count": 45,
      "outputs": [
        {
          "output_type": "display_data",
          "data": {
            "text/plain": [
              "Confusion Matrix and Statistics\n",
              "\n",
              "               actual_class\n",
              "predicted_class    0    1    2\n",
              "              0 1151   49  184\n",
              "              1  240  517  174\n",
              "              2  242   53 1188\n",
              "\n",
              "Overall Statistics\n",
              "                                          \n",
              "               Accuracy : 0.752           \n",
              "                 95% CI : (0.7379, 0.7656)\n",
              "    No Information Rate : 0.43            \n",
              "    P-Value [Acc > NIR] : < 2.2e-16       \n",
              "                                          \n",
              "                  Kappa : 0.6151          \n",
              "                                          \n",
              " Mcnemar's Test P-Value : < 2.2e-16       \n",
              "\n",
              "Statistics by Class:\n",
              "\n",
              "                     Class: 0 Class: 1 Class: 2\n",
              "Sensitivity            0.7048   0.8352   0.7684\n",
              "Specificity            0.8924   0.8698   0.8690\n",
              "Pos Pred Value         0.8316   0.5553   0.8011\n",
              "Neg Pred Value         0.8003   0.9644   0.8454\n",
              "Precision              0.8316   0.5553   0.8011\n",
              "Recall                 0.7048   0.8352   0.7684\n",
              "F1                     0.7630   0.6671   0.7844\n",
              "Prevalence             0.4300   0.1630   0.4071\n",
              "Detection Rate         0.3031   0.1361   0.3128\n",
              "Detection Prevalence   0.3644   0.2451   0.3905\n",
              "Balanced Accuracy      0.7986   0.8525   0.8187"
            ]
          },
          "metadata": {
            "tags": []
          }
        }
      ]
    },
    {
      "cell_type": "markdown",
      "metadata": {
        "id": "DdC2iQ-QyBCc"
      },
      "source": [
        "\n",
        "---\n",
        "\n",
        "## **Logistic regression**\n",
        "\n",
        "---"
      ]
    },
    {
      "cell_type": "code",
      "metadata": {
        "id": "_UKO2G48WWo5",
        "colab": {
          "base_uri": "https://localhost:8080/"
        },
        "outputId": "b7eac62a-def1-4a39-f399-8b7c20750767"
      },
      "source": [
        "log_reg <- textmodel_lr(dfm_train_tfidf, unlist(quanteda::docvars(dfm_train_tfidf, \"labels\")))"
      ],
      "execution_count": 46,
      "outputs": [
        {
          "output_type": "stream",
          "text": [
            "Warning message:\n",
            "“from glmnet Fortran code (error code -96); Convergence for 96th lambda value not reached after maxit=10000 iterations; solutions for larger lambdas returned”\n"
          ],
          "name": "stderr"
        }
      ]
    },
    {
      "cell_type": "code",
      "metadata": {
        "colab": {
          "base_uri": "https://localhost:8080/",
          "height": 645
        },
        "id": "sovYyC-SYm7D",
        "outputId": "c61d0cbd-3fda-4f48-c063-90f3ac7253af"
      },
      "source": [
        "computeConfusionMatrix(dfm_test_tfidf,dfm_train_tfidf, log_reg)"
      ],
      "execution_count": 47,
      "outputs": [
        {
          "output_type": "display_data",
          "data": {
            "text/plain": [
              "Confusion Matrix and Statistics\n",
              "\n",
              "               actual_class\n",
              "predicted_class    0    1    2\n",
              "              0 1152   34  159\n",
              "              1  246  538  172\n",
              "              2  235   47 1215\n",
              "\n",
              "Overall Statistics\n",
              "                                          \n",
              "               Accuracy : 0.7649          \n",
              "                 95% CI : (0.7511, 0.7783)\n",
              "    No Information Rate : 0.43            \n",
              "    P-Value [Acc > NIR] : < 2.2e-16       \n",
              "                                          \n",
              "                  Kappa : 0.6362          \n",
              "                                          \n",
              " Mcnemar's Test P-Value : < 2.2e-16       \n",
              "\n",
              "Statistics by Class:\n",
              "\n",
              "                     Class: 0 Class: 1 Class: 2\n",
              "Sensitivity            0.7055   0.8691   0.7859\n",
              "Specificity            0.9109   0.8685   0.8748\n",
              "Pos Pred Value         0.8565   0.5628   0.8116\n",
              "Neg Pred Value         0.8039   0.9715   0.8561\n",
              "Precision              0.8565   0.5628   0.8116\n",
              "Recall                 0.7055   0.8691   0.7859\n",
              "F1                     0.7737   0.6832   0.7986\n",
              "Prevalence             0.4300   0.1630   0.4071\n",
              "Detection Rate         0.3033   0.1417   0.3199\n",
              "Detection Prevalence   0.3541   0.2517   0.3942\n",
              "Balanced Accuracy      0.8082   0.8688   0.8303"
            ]
          },
          "metadata": {
            "tags": []
          }
        }
      ]
    }
  ]
}