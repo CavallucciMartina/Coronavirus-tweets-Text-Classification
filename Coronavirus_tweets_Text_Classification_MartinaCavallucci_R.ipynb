{
  "nbformat": 4,
  "nbformat_minor": 0,
  "metadata": {
    "colab": {
      "name": "Coronavirus tweets-Text Classification-MartinaCavallucci.R.ipynb",
      "provenance": [],
      "collapsed_sections": [],
      "toc_visible": true
    },
    "kernelspec": {
      "display_name": "R",
      "name": "ir"
    }
  },
  "cells": [
    {
      "cell_type": "markdown",
      "metadata": {
        "id": "qJfOVJGWz_XP"
      },
      "source": [
        "# **Coronavirus tweets-Text Classification**\n",
        "\n",
        "#### Autore: Martina Cavallucci\n",
        "#### Email: nome.cognome@studio.unibo.it\n",
        "#### Release: Gennaio, 2020\n",
        "\n",
        "*Questo script R esegue una modellazione e una classificazione di testi di tweet durante il perodo di Marzo 2019 e Aprile 2019.\n",
        "Tali tweet si riferiscono ad un topic specifico: Covid-19.\n",
        "L'obiettivo è quello di classificazione dei tweet rispetto al sentiment (Positive, Negative, Neutral).*\n",
        "\n"
      ]
    },
    {
      "cell_type": "markdown",
      "metadata": {
        "id": "vjTyI4yi1Dwd"
      },
      "source": [
        "---\n",
        "\n",
        "#### Import delle librerie R e di Text Mining\n",
        "##### Questa operazione impiega alcuni minuti\n",
        "---\n",
        "\n",
        "\n"
      ]
    },
    {
      "cell_type": "code",
      "metadata": {
        "id": "Nwh1UhZ6fZ22"
      },
      "source": [
        "install.packages(\"data.table\")\n",
        "library(data.table) \n",
        "install.packages(\"checkmate\")\n",
        "library(checkmate)\n",
        "install.packages(\"stringr\") \n",
        "library(stringr)\n",
        "install.packages(\"caret\") \n",
        "library(caret)\n",
        "install.packages(\"quanteda\") \n",
        "library(quanteda)\n",
        "install.packages(\"quanteda.textmodels\")\n",
        "library(quanteda.textmodels)\n",
        "install.packages(\"R.utils\")\n",
        "library(\"R.utils\")\n",
        "library(tidyverse)"
      ],
      "execution_count": null,
      "outputs": []
    },
    {
      "cell_type": "markdown",
      "metadata": {
        "id": "AudtbAjk1VPO"
      },
      "source": [
        "---\n",
        "\n",
        "#### Import del text set da Github\n",
        "\n",
        "---\n"
      ]
    },
    {
      "cell_type": "code",
      "metadata": {
        "id": "eJElWchhgXaW"
      },
      "source": [
        "download.file('https://github.com/CavallucciMartina/Coronavirus-tweets-Text-Classification/blob/main/input/Corona_NLP_test.csv.gz?raw=true', 'test.csv.gz') #, method=\"curl\")\n",
        "gunzip('test.csv.gz')\n",
        "download.file('https://github.com/CavallucciMartina/Coronavirus-tweets-Text-Classification/blob/main/input/Corona_NLP_train.csv.gz?raw=true', 'train.csv.gz') #, method=\"curl\")\n",
        "gunzip('train.csv.gz')"
      ],
      "execution_count": null,
      "outputs": []
    },
    {
      "cell_type": "markdown",
      "metadata": {
        "id": "89Qmpxqp1brW"
      },
      "source": [
        "---\n",
        "\n",
        "#### Prima visualizzazione del train set\n",
        "\n",
        "---\n"
      ]
    },
    {
      "cell_type": "code",
      "metadata": {
        "id": "FU3zLbcBhod-"
      },
      "source": [
        "train <- read.csv(\"train.csv\")\n",
        "test <- read.csv(\"test.csv\")\n",
        "head(train)"
      ],
      "execution_count": null,
      "outputs": []
    },
    {
      "cell_type": "markdown",
      "metadata": {
        "id": "84pLjEnC1gfk"
      },
      "source": [
        "---\n",
        "\n",
        "#### Dimensioni del train set e del test set\n",
        "\n",
        "---\n"
      ]
    },
    {
      "cell_type": "code",
      "metadata": {
        "id": "UgRR_35zjkUF"
      },
      "source": [
        "dim(train)\n",
        "dim(test)"
      ],
      "execution_count": null,
      "outputs": []
    },
    {
      "cell_type": "markdown",
      "metadata": {
        "id": "rYGGp5jY1zlo"
      },
      "source": [
        "\n",
        "---\n",
        "\n",
        "#### Preparazione analisi risultati di Sentiment in Train\n",
        "\n",
        "---"
      ]
    },
    {
      "cell_type": "code",
      "metadata": {
        "id": "hnRRC1o6rllq"
      },
      "source": [
        "uniqueSentiment = count(train,Sentiment)\n",
        "uniqueSentiment"
      ],
      "execution_count": null,
      "outputs": []
    },
    {
      "cell_type": "markdown",
      "metadata": {
        "id": "VSXDGdpB9vnk"
      },
      "source": [
        "---\n",
        "\n",
        "#### Grafico delle percentuali di sentiment nel train set\n",
        "\n",
        "---"
      ]
    },
    {
      "cell_type": "code",
      "metadata": {
        "id": "FVyH0Yy1tiET"
      },
      "source": [
        "#jpeg(\"PieChartSentiment.jpg\")\n",
        "sentiment <- c(uniqueSentiment[,c(2)]) \n",
        "lbls <- c('Positive','Negative','Neutral','Extremely Positive','Extremely Negative')\n",
        "pct <- round(sentiment/sum(sentiment)*100)\n",
        "lbls <- paste(lbls, pct) # add percents to labels\n",
        "lbls <- paste(lbls,\"%\",sep=\"\") # ad % to labels\n",
        "pie(sentiment,labels = lbls, col=c(\"#66CC00\",\"#CC0000\",\"#CCCCCC\",\"#336600\",\"#990000\"),\n",
        "   main=\"Pie Chart of sentiment\") \n",
        "#dev.off()"
      ],
      "execution_count": null,
      "outputs": []
    },
    {
      "cell_type": "markdown",
      "metadata": {
        "id": "kTKe5blsvUTt"
      },
      "source": [
        "---\n",
        "\n",
        "#### Preparazione train e test per classificazione.\n",
        "Trasformazione da 5 classi a 3: Positive, Negative, Neutral\n",
        "\n",
        "---"
      ]
    },
    {
      "cell_type": "code",
      "metadata": {
        "id": "AZI1k08TzCeW"
      },
      "source": [
        "new_train = data.frame(\n",
        "                text = train$OriginalTweet,\n",
        "                labels = train$Sentiment,\n",
        "                stringsAsFactors=F)\n",
        "\n",
        "new_test = data.frame(\n",
        "                text = test$OriginalTweet,\n",
        "                labels = test$Sentiment,\n",
        "                stringsAsFactors=F)"
      ],
      "execution_count": 46,
      "outputs": []
    },
    {
      "cell_type": "code",
      "metadata": {
        "id": "iQZnc_jbaZqs"
      },
      "source": [
        "#Free memory\n",
        "rm(train)\n",
        "rm(test)"
      ],
      "execution_count": 8,
      "outputs": []
    },
    {
      "cell_type": "code",
      "metadata": {
        "id": "9WxDMG-T0NEz"
      },
      "source": [
        "# Seleziono solo 3 classi e non 5.\n",
        "\n",
        "classes_def <- function(x)\n",
        "    if (x ==  \"Extremely Positive\"){\n",
        "         \"2\"\n",
        "    }else if( x == \"Extremely Negative\"){\n",
        "         \"0\"\n",
        "    }else if(x == \"Negative\"){\n",
        "         \"0\"\n",
        "    }else if(x ==  \"Positive\"){\n",
        "         \"2\"\n",
        "    }else {\n",
        "         \"1\"\n",
        "    }\n",
        "\n",
        "new_train$labels = lapply(new_train$labels, function(x) classes_def(x))\n",
        "new_test$labels = lapply(new_test$labels, function(x) classes_def(x))\n",
        "\n",
        "uniqueSentiment_trasf = count(new_train,labels)\n",
        "uniqueSentiment_trasf\n"
      ],
      "execution_count": null,
      "outputs": []
    },
    {
      "cell_type": "code",
      "metadata": {
        "id": "Fny3cy98k9Xy"
      },
      "source": [
        "#jpeg(\"PieChartSentiment.jpg\")\n",
        "sentiment <- c(uniqueSentiment_trasf[,c(2)]) \n",
        "lbls <- c('Positive','Negative','Neutral')\n",
        "pct <- round(sentiment/sum(sentiment)*100)\n",
        "lbls <- paste(lbls, pct) # add percents to labels\n",
        "lbls <- paste(lbls,\"%\",sep=\"\") # ad % to labels\n",
        "pie(sentiment,labels = lbls, col=c(\"#66CC00\", \"#CC0000\", \"#CCCCCC\"),\n",
        "   main=\"Pie Chart of sentiment\") \n",
        "#dev.off()"
      ],
      "execution_count": null,
      "outputs": []
    },
    {
      "cell_type": "markdown",
      "metadata": {
        "id": "JEzvBji6wKqC"
      },
      "source": [
        "---\n",
        "\n",
        "#### Creazione del corpus\n",
        "\n",
        "---"
      ]
    },
    {
      "cell_type": "code",
      "metadata": {
        "id": "nxB1JreDy6EL"
      },
      "source": [
        "train_corpus <- corpus(new_train)\n",
        "docvars(train_corpus, \"Textno\") <-\n",
        "  sprintf(\"%02d\", 1:ndoc(train_corpus)) "
      ],
      "execution_count": null,
      "outputs": []
    },
    {
      "cell_type": "code",
      "metadata": {
        "id": "Fckhz62pL43T"
      },
      "source": [
        "train_corpus.stats <- summary(train_corpus)\n",
        "head(train_corpus.stats, n = 10)"
      ],
      "execution_count": null,
      "outputs": []
    },
    {
      "cell_type": "code",
      "metadata": {
        "id": "61nTKQHw17X2"
      },
      "source": [
        "head(kwic(train_corpus, \"covid19\", window=4),10)"
      ],
      "execution_count": null,
      "outputs": []
    },
    {
      "cell_type": "code",
      "metadata": {
        "id": "-x89qQwB2LJy"
      },
      "source": [
        "head(kwic(train_corpus, \"work\", window=4),10)"
      ],
      "execution_count": null,
      "outputs": []
    },
    {
      "cell_type": "code",
      "metadata": {
        "id": "3E4NyttFxnO2"
      },
      "source": [
        "head(kwic(train_corpus, \"food\", window=4),10)"
      ],
      "execution_count": null,
      "outputs": []
    },
    {
      "cell_type": "markdown",
      "metadata": {
        "id": "yZ2dEmnsOkqa"
      },
      "source": [
        "---\n",
        "\n",
        "#### Text-preprocessing\n",
        "\n",
        "---"
      ]
    },
    {
      "cell_type": "code",
      "metadata": {
        "id": "_5pKUaZr0rud"
      },
      "source": [
        "head(train_corpus,5)"
      ],
      "execution_count": null,
      "outputs": []
    },
    {
      "cell_type": "code",
      "metadata": {
        "id": "KNo1VkzEMSKT"
      },
      "source": [
        "train_token <-\n",
        "  tokens(\n",
        "    train_corpus,\n",
        "    remove_numbers = TRUE,\n",
        "    remove_punct = TRUE,\n",
        "    remove_symbols = TRUE,\n",
        "    remove_url = TRUE,\n",
        "    split_hyphens = TRUE,\n",
        "    include_docvars = TRUE\n",
        "  )"
      ],
      "execution_count": 19,
      "outputs": []
    },
    {
      "cell_type": "code",
      "metadata": {
        "id": "EYzGGWbMyzVm"
      },
      "source": [
        "head(train_token,20)"
      ],
      "execution_count": null,
      "outputs": []
    },
    {
      "cell_type": "code",
      "metadata": {
        "id": "4dJczHD-Muxi"
      },
      "source": [
        "token_ungd <- tokens_select(\n",
        "  train_token,\n",
        "  c(\"(http|https)://([^\\\\s]+)\", \"<.*?>\",\"#\\\\w+\",\"@\\\\w+\",\"\\\\s+\",\"&\\\\w+\"),\n",
        "  selection = \"remove\",\n",
        "  valuetype = \"regex\",\n",
        "  verbose = TRUE\n",
        ")\n",
        "toks_nostop <- tokens_select(token_ungd, pattern = stopwords(\"en\"), selection = \"remove\")\n",
        "print(toks_nostop)"
      ],
      "execution_count": null,
      "outputs": []
    },
    {
      "cell_type": "code",
      "metadata": {
        "id": "y_43FiAaeT4h"
      },
      "source": [
        "#Free memory\n",
        "rm(train_corpus)"
      ],
      "execution_count": null,
      "outputs": []
    },
    {
      "cell_type": "markdown",
      "metadata": {
        "id": "ybCq2Bo0OZjF"
      },
      "source": [
        "---\n",
        "\n",
        "#### Creazione matrice documenti-termini e applicazione TF-IDF\n",
        "\n",
        "---"
      ]
    },
    {
      "cell_type": "code",
      "metadata": {
        "id": "FAl-8lOm21D1"
      },
      "source": [
        "dfm_train <- dfm(toks_nostop,\n",
        "                       tolower = TRUE,\n",
        "                       stem = FALSE)\n",
        "dfm_train_tfidf.trim <- dfm_trim(dfm_train, min_termfreq = 10, min_docfreq = 2)\n",
        "dfm_train_tfidf <- dfm_tfidf(dfm_train_tfidf.trim)\n",
        "dfm_train_tfidf"
      ],
      "execution_count": null,
      "outputs": []
    },
    {
      "cell_type": "code",
      "metadata": {
        "id": "NgY4VvvmalNo"
      },
      "source": [
        "#Free memory\n",
        "rm(new_train)"
      ],
      "execution_count": 23,
      "outputs": []
    },
    {
      "cell_type": "markdown",
      "metadata": {
        "id": "tw6AnHoXOVdA"
      },
      "source": [
        "---\n",
        "\n",
        "#### Generazione wordcloud\n",
        "\n",
        "---"
      ]
    },
    {
      "cell_type": "code",
      "metadata": {
        "id": "PIro3XdwGnq1"
      },
      "source": [
        "#jpeg(\"wordcloud.jpeg\")\n",
        "set.seed(100)\n",
        "textplot_wordcloud(dfm_train_tfidf.trim, min_count = 100, random_order = FALSE,\n",
        "                   rotation = .25, \n",
        "                   color = RColorBrewer::brewer.pal(8,\"Dark2\"))\n",
        "#dev.off()"
      ],
      "execution_count": null,
      "outputs": []
    },
    {
      "cell_type": "markdown",
      "metadata": {
        "id": "uQU0_ItUOahx"
      },
      "source": [
        "---\n",
        "\n",
        "## **Classificazione**\n",
        "\n",
        "---"
      ]
    },
    {
      "cell_type": "markdown",
      "metadata": {
        "id": "u_DshGAtwqPM"
      },
      "source": [
        "---\n",
        "\n",
        "##### Funzione per generare la confusion matrix dato un modello e i dati di train e test.\n",
        "\n",
        "---"
      ]
    },
    {
      "cell_type": "code",
      "metadata": {
        "id": "SCBibG1tvBP3"
      },
      "source": [
        "computeConfusionMatrix <- function(test, train, model) {\n",
        "  dfmat_matched <- dfm_match(test, features = featnames(train))\n",
        "  actual_class <- unlist(dfmat_matched$labels)\n",
        "  predicted_class <- predict(model, newdata = dfmat_matched, force = TRUE)\n",
        "  tab_class <- table(actual_class, predicted_class)\n",
        "  confusionMatrix <- confusionMatrix(tab_class, mode = \"everything\")\n",
        "  return (confusionMatrix)\n",
        "}"
      ],
      "execution_count": 25,
      "outputs": []
    },
    {
      "cell_type": "markdown",
      "metadata": {
        "id": "VS2nAOpVxEO5"
      },
      "source": [
        "---\n",
        "\n",
        "##### Costruzione della matrice termini-document e applicazione TF-IDF per il test set.\n",
        "\n",
        "---"
      ]
    },
    {
      "cell_type": "code",
      "metadata": {
        "id": "foHjtb3LxEnu"
      },
      "source": [
        "test_corpus <- corpus(new_test)\n",
        "token <-\n",
        "  tokens(\n",
        "    test_corpus,\n",
        "    remove_numbers = TRUE,\n",
        "    remove_punct = TRUE,\n",
        "    remove_symbols = TRUE,\n",
        "    remove_url = TRUE,\n",
        "    split_hyphens = TRUE,\n",
        "    include_docvars = TRUE\n",
        "  )\n",
        "\n",
        "token_ungd <- tokens_select(\n",
        "  token,\n",
        "  c(\"(http|https)://([^\\\\s]+)\", \"<.*?>\",\"#\\\\w+\",\"@\\\\w+\",\"\\\\s+\",\"&\\\\w+\"),\n",
        "  selection = \"remove\",\n",
        "  valuetype = \"regex\",\n",
        "  verbose = TRUE\n",
        ")\n",
        "toks_nostop <- tokens_select(token_ungd, pattern = stopwords(\"en\"), selection = \"remove\")\n",
        "dfm_test <- dfm(token_ungd,\n",
        "                       tolower = TRUE,\n",
        "                       stem = FALSE)\n",
        "dfm_test_tfidf.trim <- dfm_trim(dfm_test, min_termfreq = 10, min_docfreq = 2)\n",
        "dfm_test_tfidf <- dfm_tfidf(dfm_test_tfidf.trim)\n",
        "dfm_test_tfidf"
      ],
      "execution_count": null,
      "outputs": []
    },
    {
      "cell_type": "code",
      "metadata": {
        "id": "Qwi5p2O6xY4F"
      },
      "source": [
        "#Free memory\n",
        "rm(new_test)\n",
        "rm(test_corpus)"
      ],
      "execution_count": 27,
      "outputs": []
    },
    {
      "cell_type": "markdown",
      "metadata": {
        "id": "R5PCbequTKko"
      },
      "source": [
        "\n",
        "---\n",
        "\n",
        "## **Naive Bayes Multinomial**\n",
        "\n",
        "---"
      ]
    },
    {
      "cell_type": "code",
      "metadata": {
        "id": "sWa4ir3wYQQE"
      },
      "source": [
        "nb_mult <- textmodel_nb(dfm_train_tfidf, unlist(docvars(dfm_train_tfidf, \"labels\")), distribution = c(\"multinomial\"))"
      ],
      "execution_count": 74,
      "outputs": []
    },
    {
      "cell_type": "code",
      "metadata": {
        "colab": {
          "base_uri": "https://localhost:8080/",
          "height": 645
        },
        "id": "H1IOVFIavWaE",
        "outputId": "8bb783f9-455a-40b3-ccda-b37946ee662c"
      },
      "source": [
        "computeConfusionMatrix(dfm_test_tfidf,dfm_train_tfidf, nb_mult)"
      ],
      "execution_count": 75,
      "outputs": [
        {
          "output_type": "display_data",
          "data": {
            "text/plain": [
              "Confusion Matrix and Statistics\n",
              "\n",
              "            predicted_class\n",
              "actual_class    0    1    2\n",
              "           0 1101  235  297\n",
              "           1  136  388   95\n",
              "           2  267  188 1091\n",
              "\n",
              "Overall Statistics\n",
              "                                          \n",
              "               Accuracy : 0.6793          \n",
              "                 95% CI : (0.6642, 0.6941)\n",
              "    No Information Rate : 0.396           \n",
              "    P-Value [Acc > NIR] : < 2.2e-16       \n",
              "                                          \n",
              "                  Kappa : 0.4958          \n",
              "                                          \n",
              " Mcnemar's Test P-Value : 1.185e-12       \n",
              "\n",
              "Statistics by Class:\n",
              "\n",
              "                     Class: 0 Class: 1 Class: 2\n",
              "Sensitivity            0.7320   0.4784   0.7357\n",
              "Specificity            0.7681   0.9227   0.8035\n",
              "Pos Pred Value         0.6742   0.6268   0.7057\n",
              "Neg Pred Value         0.8139   0.8669   0.8259\n",
              "Precision              0.6742   0.6268   0.7057\n",
              "Recall                 0.7320   0.4784   0.7357\n",
              "F1                     0.7019   0.5427   0.7204\n",
              "Prevalence             0.3960   0.2135   0.3905\n",
              "Detection Rate         0.2899   0.1022   0.2873\n",
              "Detection Prevalence   0.4300   0.1630   0.4071\n",
              "Balanced Accuracy      0.7501   0.7005   0.7696"
            ]
          },
          "metadata": {
            "tags": []
          }
        }
      ]
    },
    {
      "cell_type": "markdown",
      "metadata": {
        "id": "Btfhj7FLxj5i"
      },
      "source": [
        "---\n",
        "\n",
        "## **Naive Bayes Bernoulli**\n",
        "\n",
        "---"
      ]
    },
    {
      "cell_type": "code",
      "metadata": {
        "id": "DV3lTZssORhn"
      },
      "source": [
        "nb_bern <- textmodel_nb(dfm_train_tfidf, unlist(docvars(dfm_train_tfidf, \"labels\")), distribution = c(\"Bernoulli\"))"
      ],
      "execution_count": 76,
      "outputs": []
    },
    {
      "cell_type": "code",
      "metadata": {
        "id": "8iV1DAKKOXl4",
        "colab": {
          "base_uri": "https://localhost:8080/",
          "height": 645
        },
        "outputId": "9bdf3588-afe2-4787-b6aa-29486d10a736"
      },
      "source": [
        "computeConfusionMatrix(dfm_test_tfidf,dfm_train_tfidf, nb_bern)"
      ],
      "execution_count": 77,
      "outputs": [
        {
          "output_type": "display_data",
          "data": {
            "text/plain": [
              "Confusion Matrix and Statistics\n",
              "\n",
              "            predicted_class\n",
              "actual_class    0    1    2\n",
              "           0 1016  391  226\n",
              "           1   77  495   47\n",
              "           2  267  355  924\n",
              "\n",
              "Overall Statistics\n",
              "                                          \n",
              "               Accuracy : 0.6411          \n",
              "                 95% CI : (0.6256, 0.6564)\n",
              "    No Information Rate : 0.3581          \n",
              "    P-Value [Acc > NIR] : < 2.2e-16       \n",
              "                                          \n",
              "                  Kappa : 0.4599          \n",
              "                                          \n",
              " Mcnemar's Test P-Value : < 2.2e-16       \n",
              "\n",
              "Statistics by Class:\n",
              "\n",
              "                     Class: 0 Class: 1 Class: 2\n",
              "Sensitivity            0.7471   0.3989   0.7719\n",
              "Specificity            0.7469   0.9515   0.7609\n",
              "Pos Pred Value         0.6222   0.7997   0.5977\n",
              "Neg Pred Value         0.8411   0.7653   0.8788\n",
              "Precision              0.6222   0.7997   0.5977\n",
              "Recall                 0.7471   0.3989   0.7719\n",
              "F1                     0.6789   0.5323   0.6737\n",
              "Prevalence             0.3581   0.3268   0.3152\n",
              "Detection Rate         0.2675   0.1303   0.2433\n",
              "Detection Prevalence   0.4300   0.1630   0.4071\n",
              "Balanced Accuracy      0.7470   0.6752   0.7664"
            ]
          },
          "metadata": {
            "tags": []
          }
        }
      ]
    },
    {
      "cell_type": "markdown",
      "metadata": {
        "id": "DWl8G9aL27Gv"
      },
      "source": [
        "\n",
        "---\n",
        "\n",
        "## **Linear SVM**\n",
        "\n",
        "---"
      ]
    },
    {
      "cell_type": "code",
      "metadata": {
        "id": "87v3XvyJ0sh3"
      },
      "source": [
        "svm <- textmodel_svm(dfm_train_tfidf, y = quanteda::docvars(dfm_train_tfidf, \"labels\"))"
      ],
      "execution_count": 78,
      "outputs": []
    },
    {
      "cell_type": "code",
      "metadata": {
        "id": "12SZvthH-nPc",
        "colab": {
          "base_uri": "https://localhost:8080/",
          "height": 645
        },
        "outputId": "b9033368-721c-4f29-ce18-e4fa6928943d"
      },
      "source": [
        "computeConfusionMatrix(dfm_test_tfidf,dfm_train_tfidf, svm)"
      ],
      "execution_count": 79,
      "outputs": [
        {
          "output_type": "display_data",
          "data": {
            "text/plain": [
              "Confusion Matrix and Statistics\n",
              "\n",
              "            predicted_class\n",
              "actual_class    0    1    2\n",
              "           0 1151  240  242\n",
              "           1   49  517   53\n",
              "           2  184  174 1188\n",
              "\n",
              "Overall Statistics\n",
              "                                          \n",
              "               Accuracy : 0.752           \n",
              "                 95% CI : (0.7379, 0.7656)\n",
              "    No Information Rate : 0.3905          \n",
              "    P-Value [Acc > NIR] : < 2.2e-16       \n",
              "                                          \n",
              "                  Kappa : 0.6151          \n",
              "                                          \n",
              " Mcnemar's Test P-Value : < 2.2e-16       \n",
              "\n",
              "Statistics by Class:\n",
              "\n",
              "                     Class: 0 Class: 1 Class: 2\n",
              "Sensitivity            0.8316   0.5553   0.8011\n",
              "Specificity            0.8003   0.9644   0.8454\n",
              "Pos Pred Value         0.7048   0.8352   0.7684\n",
              "Neg Pred Value         0.8924   0.8698   0.8690\n",
              "Precision              0.7048   0.8352   0.7684\n",
              "Recall                 0.8316   0.5553   0.8011\n",
              "F1                     0.7630   0.6671   0.7844\n",
              "Prevalence             0.3644   0.2451   0.3905\n",
              "Detection Rate         0.3031   0.1361   0.3128\n",
              "Detection Prevalence   0.4300   0.1630   0.4071\n",
              "Balanced Accuracy      0.8160   0.7599   0.8232"
            ]
          },
          "metadata": {
            "tags": []
          }
        }
      ]
    },
    {
      "cell_type": "markdown",
      "metadata": {
        "id": "DdC2iQ-QyBCc"
      },
      "source": [
        "\n",
        "---\n",
        "\n",
        "## **Logistic regression**\n",
        "\n",
        "---"
      ]
    },
    {
      "cell_type": "code",
      "metadata": {
        "id": "_UKO2G48WWo5"
      },
      "source": [
        "log_reg <- textmodel_lr(dfm_train_tfidf, unlist(quanteda::docvars(dfm_train_tfidf, \"labels\")))"
      ],
      "execution_count": 80,
      "outputs": []
    },
    {
      "cell_type": "code",
      "metadata": {
        "colab": {
          "base_uri": "https://localhost:8080/",
          "height": 645
        },
        "id": "sovYyC-SYm7D",
        "outputId": "db04f8d9-d1ad-4355-f34d-76515f1482f3"
      },
      "source": [
        "computeConfusionMatrix(dfm_test_tfidf,dfm_train_tfidf, log_reg)"
      ],
      "execution_count": 81,
      "outputs": [
        {
          "output_type": "display_data",
          "data": {
            "text/plain": [
              "Confusion Matrix and Statistics\n",
              "\n",
              "            predicted_class\n",
              "actual_class    0    1    2\n",
              "           0 1152  246  235\n",
              "           1   34  538   47\n",
              "           2  159  172 1215\n",
              "\n",
              "Overall Statistics\n",
              "                                          \n",
              "               Accuracy : 0.7649          \n",
              "                 95% CI : (0.7511, 0.7783)\n",
              "    No Information Rate : 0.3942          \n",
              "    P-Value [Acc > NIR] : < 2.2e-16       \n",
              "                                          \n",
              "                  Kappa : 0.6362          \n",
              "                                          \n",
              " Mcnemar's Test P-Value : < 2.2e-16       \n",
              "\n",
              "Statistics by Class:\n",
              "\n",
              "                     Class: 0 Class: 1 Class: 2\n",
              "Sensitivity            0.8565   0.5628   0.8116\n",
              "Specificity            0.8039   0.9715   0.8561\n",
              "Pos Pred Value         0.7055   0.8691   0.7859\n",
              "Neg Pred Value         0.9109   0.8685   0.8748\n",
              "Precision              0.7055   0.8691   0.7859\n",
              "Recall                 0.8565   0.5628   0.8116\n",
              "F1                     0.7737   0.6832   0.7986\n",
              "Prevalence             0.3541   0.2517   0.3942\n",
              "Detection Rate         0.3033   0.1417   0.3199\n",
              "Detection Prevalence   0.4300   0.1630   0.4071\n",
              "Balanced Accuracy      0.8302   0.7671   0.8339"
            ]
          },
          "metadata": {
            "tags": []
          }
        }
      ]
    }
  ]
}